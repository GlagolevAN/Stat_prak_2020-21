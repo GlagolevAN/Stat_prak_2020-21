{
 "cells": [
  {
   "cell_type": "code",
   "execution_count": 12,
   "metadata": {},
   "outputs": [],
   "source": [
    "import matplotlib.pyplot as plt\n",
    "import numpy as np\n",
    "import random as rnd\n",
    "import math as m\n",
    "import pandas as pd\n",
    "import scipy.stats as stat\n",
    "import scipy.optimize as opt\n",
    "import seaborn as sb\n",
    "from scipy.integrate import quad\n",
    "from scipy.integrate import dblquad\n",
    "from scipy.special import comb\n",
    "from sklearn.linear_model import LinearRegression\n",
    "plt.style.use('ggplot')\n",
    "\n",
    "my_norm = lambda exp, disp: stat.norm(loc = exp, scale = m.sqrt(disp))"
   ]
  },
  {
   "cell_type": "code",
   "execution_count": null,
   "metadata": {},
   "outputs": [],
   "source": []
  },
  {
   "cell_type": "code",
   "execution_count": 132,
   "metadata": {},
   "outputs": [
    {
     "data": {
      "text/plain": [
       "5.324398186264325"
      ]
     },
     "execution_count": 132,
     "metadata": {},
     "output_type": "execute_result"
    }
   ],
   "source": [
    "n = 50\n",
    "sample = [m.exp(stat.norm(scale = 1).rvs(size = 1)[0]) for i in range(n)]\n",
    "sample = stat.lognorm(s = 1).rvs(size = 50)\n",
    "stat.skew(sample)"
   ]
  },
  {
   "cell_type": "code",
   "execution_count": 81,
   "metadata": {},
   "outputs": [
    {
     "data": {
      "text/plain": [
       "(array(1.64872127), array(4.67077427), array(6.18487714), array(110.93639218))"
      ]
     },
     "execution_count": 81,
     "metadata": {},
     "output_type": "execute_result"
    }
   ],
   "source": [
    "stat.lognorm.stats(1, moments = 'mvsk')"
   ]
  },
  {
   "cell_type": "code",
   "execution_count": 61,
   "metadata": {},
   "outputs": [],
   "source": [
    "def get_boot(numbers):\n",
    "    ans = []\n",
    "    for i in range(len(sample)):\n",
    "        for j in range(numbers[i]):\n",
    "            ans.append(sample[i])\n",
    "    return ans"
   ]
  },
  {
   "cell_type": "code",
   "execution_count": 134,
   "metadata": {},
   "outputs": [],
   "source": [
    "T = []; \n",
    "for i in range(5000):\n",
    "    boot_sample = get_boot(stat.multinomial(n, 1/n * np.ones(n)).rvs()[0])\n",
    "    T.append(stat.skew(boot_sample))\n",
    "    "
   ]
  },
  {
   "cell_type": "code",
   "execution_count": 68,
   "metadata": {},
   "outputs": [
    {
     "name": "stdout",
     "output_type": "stream",
     "text": [
      "normal\n",
      "(3.070958389403723 +- 1.8535474145336355)\n"
     ]
    }
   ],
   "source": [
    "print('normal')\n",
    "print('(' + str(np.mean(T)), '+-', str(1.96 * m.sqrt(np.var(T))) + ')') "
   ]
  },
  {
   "cell_type": "code",
   "execution_count": 64,
   "metadata": {},
   "outputs": [
    {
     "data": {
      "text/plain": [
       "6.184877138632554"
      ]
     },
     "execution_count": 64,
     "metadata": {},
     "output_type": "execute_result"
    }
   ],
   "source": [
    "(m.e + 2) * m.sqrt(m.e - 1)"
   ]
  },
  {
   "cell_type": "code",
   "execution_count": 75,
   "metadata": {},
   "outputs": [],
   "source": [
    "T.sort()"
   ]
  },
  {
   "cell_type": "code",
   "execution_count": 110,
   "metadata": {},
   "outputs": [
    {
     "name": "stdout",
     "output_type": "stream",
     "text": [
      "pivotal\n",
      "(1.0404545790699087 , 4.91463355075403)\n"
     ]
    }
   ],
   "source": [
    "print('pivotal')\n",
    "print('(' + str(T[int(0.025 * 5000)]), ',', str(T[int(0.975 * 5000)]) + ')') "
   ]
  },
  {
   "cell_type": "code",
   "execution_count": 135,
   "metadata": {},
   "outputs": [
    {
     "name": "stdout",
     "output_type": "stream",
     "text": [
      "percentile\n",
      "(8.748207895579137 , 9.732358290876483)\n"
     ]
    }
   ],
   "source": [
    "print('percentile')\n",
    "print('(' + str(2 * stat.skew(sample) - T[int(0.975 * 5000)]), ',', str(2 * stat.skew(sample) - T[int(0.025 * 5000)]) + ')') "
   ]
  }
 ],
 "metadata": {
  "kernelspec": {
   "display_name": "Python 3",
   "language": "python",
   "name": "python3"
  },
  "language_info": {
   "codemirror_mode": {
    "name": "ipython",
    "version": 3
   },
   "file_extension": ".py",
   "mimetype": "text/x-python",
   "name": "python",
   "nbconvert_exporter": "python",
   "pygments_lexer": "ipython3",
   "version": "3.8.3"
  }
 },
 "nbformat": 4,
 "nbformat_minor": 4
}
