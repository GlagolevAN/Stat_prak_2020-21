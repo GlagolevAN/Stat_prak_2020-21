{
 "cells": [
  {
   "cell_type": "code",
   "execution_count": 2,
   "metadata": {},
   "outputs": [],
   "source": [
    "import matplotlib.pyplot as plt\n",
    "import numpy as np\n",
    "import random as rnd\n",
    "import math as m\n",
    "import pandas as pd\n",
    "import scipy.stats as stat\n",
    "import scipy.optimize as opt\n",
    "import seaborn as sb\n",
    "from scipy.integrate import quad\n",
    "from scipy.integrate import dblquad\n",
    "from scipy.special import comb\n",
    "from sklearn.linear_model import LinearRegression\n",
    "plt.style.use('ggplot')\n",
    "\n",
    "my_norm = lambda exp, disp: stat.norm(loc = exp, scale = m.sqrt(disp))"
   ]
  },
  {
   "cell_type": "code",
   "execution_count": null,
   "metadata": {},
   "outputs": [],
   "source": []
  },
  {
   "cell_type": "code",
   "execution_count": 32,
   "metadata": {},
   "outputs": [
    {
     "data": {
      "text/plain": [
       "1.0635841210878536"
      ]
     },
     "execution_count": 32,
     "metadata": {},
     "output_type": "execute_result"
    }
   ],
   "source": [
    "n = 25\n",
    "sample = stat.t(df = 3).rvs(size = n)\n",
    "stat.iqr(sample, scale = 1.34)"
   ]
  },
  {
   "cell_type": "code",
   "execution_count": 18,
   "metadata": {},
   "outputs": [
    {
     "data": {
      "text/plain": [
       "1.529784656161782"
      ]
     },
     "execution_count": 18,
     "metadata": {},
     "output_type": "execute_result"
    }
   ],
   "source": [
    "stat.t(df = 3).ppf(0.75) - stat.t(df = 3).ppf(0.25)"
   ]
  },
  {
   "cell_type": "code",
   "execution_count": null,
   "metadata": {},
   "outputs": [],
   "source": []
  },
  {
   "cell_type": "code",
   "execution_count": 19,
   "metadata": {},
   "outputs": [],
   "source": [
    "def get_boot(numbers):\n",
    "    ans = []\n",
    "    for i in range(len(sample)):\n",
    "        for j in range(numbers[i]):\n",
    "            ans.append(sample[i])\n",
    "    return ans"
   ]
  },
  {
   "cell_type": "code",
   "execution_count": 33,
   "metadata": {},
   "outputs": [],
   "source": [
    "T = []; \n",
    "for i in range(5000):\n",
    "    boot_sample = get_boot(stat.multinomial(n, 1/n * np.ones(n)).rvs()[0])\n",
    "    T.append(stat.iqr(boot_sample, scale = 1.34))\n",
    "    "
   ]
  },
  {
   "cell_type": "code",
   "execution_count": 34,
   "metadata": {},
   "outputs": [
    {
     "name": "stdout",
     "output_type": "stream",
     "text": [
      "normal\n",
      "(1.2625651671880502 +- 1.016395928948741)\n"
     ]
    }
   ],
   "source": [
    "print('normal')\n",
    "print('(' + str(np.mean(T)), '+-', str(1.96 * m.sqrt(np.var(T))) + ')') "
   ]
  },
  {
   "cell_type": "code",
   "execution_count": 36,
   "metadata": {},
   "outputs": [],
   "source": [
    "T.sort()"
   ]
  },
  {
   "cell_type": "code",
   "execution_count": 38,
   "metadata": {},
   "outputs": [
    {
     "name": "stdout",
     "output_type": "stream",
     "text": [
      "pivotal\n",
      "(0.6774262328387507, 2.5763617874403035)\n"
     ]
    }
   ],
   "source": [
    "print('pivotal')\n",
    "print('(' + str(T[int(0.025 * 5000)]) +',', str(T[int(0.975 * 5000)]) + ')') "
   ]
  },
  {
   "cell_type": "code",
   "execution_count": 39,
   "metadata": {},
   "outputs": [
    {
     "name": "stdout",
     "output_type": "stream",
     "text": [
      "percentile\n",
      "(-0.4491935452645963, 1.4497420093369566)\n"
     ]
    }
   ],
   "source": [
    "print('percentile')\n",
    "print('(' + str(2 * stat.iqr(sample, scale = 1.34) - T[int(0.975 * 5000)]) + ',',\\\n",
    "      str(2 * stat.iqr(sample, scale = 1.34) - T[int(0.025 * 5000)]) + ')') "
   ]
  }
 ],
 "metadata": {
  "kernelspec": {
   "display_name": "Python 3",
   "language": "python",
   "name": "python3"
  },
  "language_info": {
   "codemirror_mode": {
    "name": "ipython",
    "version": 3
   },
   "file_extension": ".py",
   "mimetype": "text/x-python",
   "name": "python",
   "nbconvert_exporter": "python",
   "pygments_lexer": "ipython3",
   "version": "3.8.3"
  }
 },
 "nbformat": 4,
 "nbformat_minor": 4
}
