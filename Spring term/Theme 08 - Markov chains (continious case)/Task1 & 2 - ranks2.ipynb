{
 "cells": [
  {
   "cell_type": "code",
   "execution_count": 101,
   "metadata": {},
   "outputs": [],
   "source": [
    "import matplotlib.pyplot as plt\n",
    "import numpy as np\n",
    "import random as rnd\n",
    "import math as m\n",
    "import pandas as pd\n",
    "import scipy.stats as stat\n",
    "import scipy.optimize as opt\n",
    "import seaborn as sb\n",
    "from scipy.integrate import quad\n",
    "from scipy.integrate import dblquad\n",
    "from scipy.special import comb\n",
    "from sklearn.linear_model import LinearRegression\n",
    "plt.style.use('ggplot')\n",
    "\n",
    "my_norm = lambda exp, disp: stat.norm(loc = exp, scale = m.sqrt(disp))\n",
    "from mpmath import mp\n",
    "#from mpmath import e"
   ]
  },
  {
   "cell_type": "code",
   "execution_count": null,
   "metadata": {},
   "outputs": [],
   "source": []
  },
  {
   "cell_type": "code",
   "execution_count": 102,
   "metadata": {},
   "outputs": [],
   "source": [
    "k = 10; r = 5; lam = 3; mu = 1;\n",
    "Q = np.zeros((k+r,k+r))\n",
    "\n",
    "Q[0][0] = -lam; Q[0][1] = lam\n",
    "for i in range(1,k + r - 1):\n",
    "    for j in range(k + r):\n",
    "        if (i == j + 1):\n",
    "            Q[i][j] = mu * min(i, k)\n",
    "        elif (i == j):\n",
    "            Q[i][j] = -lam - mu * min(k,i)\n",
    "        elif (i == j - 1):\n",
    "            Q[i][j] = lam\n",
    "            \n",
    "Q[k + r -1][k+r-2] = mu *k;  Q[k + r -1][k+r-1] = -mu *k;\n",
    "Q0 = np.copy(Q)"
   ]
  },
  {
   "cell_type": "code",
   "execution_count": 103,
   "metadata": {},
   "outputs": [
    {
     "name": "stdout",
     "output_type": "stream",
     "text": [
      "[[ -3.   3.   0.   0.   0.   0.   0.   0.   0.   0.   0.   0.   0.   0.\n",
      "    0.]\n",
      " [  1.  -4.   3.   0.   0.   0.   0.   0.   0.   0.   0.   0.   0.   0.\n",
      "    0.]\n",
      " [  0.   2.  -5.   3.   0.   0.   0.   0.   0.   0.   0.   0.   0.   0.\n",
      "    0.]\n",
      " [  0.   0.   3.  -6.   3.   0.   0.   0.   0.   0.   0.   0.   0.   0.\n",
      "    0.]\n",
      " [  0.   0.   0.   4.  -7.   3.   0.   0.   0.   0.   0.   0.   0.   0.\n",
      "    0.]\n",
      " [  0.   0.   0.   0.   5.  -8.   3.   0.   0.   0.   0.   0.   0.   0.\n",
      "    0.]\n",
      " [  0.   0.   0.   0.   0.   6.  -9.   3.   0.   0.   0.   0.   0.   0.\n",
      "    0.]\n",
      " [  0.   0.   0.   0.   0.   0.   7. -10.   3.   0.   0.   0.   0.   0.\n",
      "    0.]\n",
      " [  0.   0.   0.   0.   0.   0.   0.   8. -11.   3.   0.   0.   0.   0.\n",
      "    0.]\n",
      " [  0.   0.   0.   0.   0.   0.   0.   0.   9. -12.   3.   0.   0.   0.\n",
      "    0.]\n",
      " [  0.   0.   0.   0.   0.   0.   0.   0.   0.  10. -13.   3.   0.   0.\n",
      "    0.]\n",
      " [  0.   0.   0.   0.   0.   0.   0.   0.   0.   0.  10. -13.   3.   0.\n",
      "    0.]\n",
      " [  0.   0.   0.   0.   0.   0.   0.   0.   0.   0.   0.  10. -13.   3.\n",
      "    0.]\n",
      " [  0.   0.   0.   0.   0.   0.   0.   0.   0.   0.   0.   0.  10. -13.\n",
      "    3.]\n",
      " [  0.   0.   0.   0.   0.   0.   0.   0.   0.   0.   0.   0.   0.  10.\n",
      "  -10.]]\n"
     ]
    }
   ],
   "source": [
    "print(Q)"
   ]
  },
  {
   "cell_type": "code",
   "execution_count": 104,
   "metadata": {},
   "outputs": [],
   "source": [
    "P = np.zeros((k + r, k + r))\n",
    "for i in range(k + r):\n",
    "    for j in range(k + r):\n",
    "        if (i == j + 1):\n",
    "            P[i][j] = -Q[i][j]/Q[i][i]\n",
    "        elif (i == j - 1):\n",
    "            P[i][j] = -Q[i][j]/Q[i][i]\n"
   ]
  },
  {
   "cell_type": "code",
   "execution_count": 105,
   "metadata": {},
   "outputs": [],
   "source": [
    "state = 0; time = 0; clients = [0]; times = [0]\n",
    "for it in range(100):\n",
    "    deltat = stat.expon(scale = 1 / (lam + mu * min(k, state))).rvs(size = 1)[0]\n",
    "    time += deltat;\n",
    "    if (state == 0):\n",
    "        state = 1\n",
    "    else:\n",
    "        toss = stat.bernoulli(P[state][state-1]).rvs(1)[0]\n",
    "        if (toss == 1):\n",
    "            state -= 1\n",
    "        else:\n",
    "            state += 1\n",
    "    clients.append(state);\n",
    "    times.append(time);\n",
    "    \n",
    "    "
   ]
  },
  {
   "cell_type": "code",
   "execution_count": 106,
   "metadata": {},
   "outputs": [
    {
     "data": {
      "image/png": "[encoded data removed]",
      "text/plain": [
       "<Figure size 432x288 with 1 Axes>"
      ]
     },
     "metadata": {},
     "output_type": "display_data"
    }
   ],
   "source": [
    "plt.plot(times, clients);\n",
    "plt.xlabel('time')\n",
    "plt.ylabel('clients')\n",
    "plt.show()"
   ]
  },
  {
   "cell_type": "code",
   "execution_count": 107,
   "metadata": {},
   "outputs": [
    {
     "name": "stdout",
     "output_type": "stream",
     "text": [
      "[4.97844767e-02 1.49353430e-01 2.24030145e-01 2.24030145e-01\n",
      " 1.68022609e-01 1.00813565e-01 5.04067826e-02 2.16029068e-02\n",
      " 8.10109007e-03 2.70036336e-03 8.10109007e-04 2.43032702e-04\n",
      " 7.29098106e-05 2.18729432e-05 6.56188295e-06]\n"
     ]
    }
   ],
   "source": [
    "np.linalg.eig(Q.T)[0][6]\n",
    "p = np.linalg.eig(Q.T)[1][:, 6]\n",
    "p = -p\n",
    "p /= np.linalg.norm(p, ord = 1)\n",
    "print(p)"
   ]
  },
  {
   "cell_type": "markdown",
   "metadata": {},
   "source": [
    "# Task 2"
   ]
  },
  {
   "cell_type": "markdown",
   "metadata": {},
   "source": [
    "### 1"
   ]
  },
  {
   "cell_type": "code",
   "execution_count": 108,
   "metadata": {},
   "outputs": [],
   "source": [
    "states = np.zeros((k+r))\n",
    "for n in range(100):\n",
    "    state = 0; time = 0; clients = [0]; times = [0]\n",
    "    states[0] += 1\n",
    "    for it in range(100):\n",
    "        deltat = stat.expon(scale = 1/(lam + mu * min(k, state))).rvs(size = 1)[0]\n",
    "        time += deltat;\n",
    "        if (state == 0):\n",
    "            state = 1\n",
    "        else:\n",
    "            toss = stat.bernoulli(P[state][state-1]).rvs(1)[0]\n",
    "            if (toss == 1):\n",
    "                state -= 1\n",
    "            else:\n",
    "                state += 1\n",
    "        states[state] += 1\n",
    "        clients.append(state);\n",
    "        times.append(time);"
   ]
  },
  {
   "cell_type": "code",
   "execution_count": 109,
   "metadata": {},
   "outputs": [
    {
     "name": "stdout",
     "output_type": "stream",
     "text": [
      "Средняя доля в каждом состоянии [0.04039604 0.12544554 0.20356436 0.21752475 0.18663366 0.12148515\n",
      " 0.06178218 0.02633663 0.01118812 0.00425743 0.00138614 0.\n",
      " 0.         0.         0.        ]\n"
     ]
    }
   ],
   "source": [
    "print('Средняя доля в каждом состоянии', states * 0.01 / 101)"
   ]
  },
  {
   "cell_type": "markdown",
   "metadata": {},
   "source": [
    "Выше результаты для вложенной ЦМ, доля ВрЕмЕнИ -- в задачии 4"
   ]
  },
  {
   "cell_type": "markdown",
   "metadata": {},
   "source": [
    "### 2"
   ]
  },
  {
   "cell_type": "markdown",
   "metadata": {},
   "source": [
    "Теоретическое рапсределение $X_{30}$"
   ]
  },
  {
   "cell_type": "code",
   "execution_count": 110,
   "metadata": {},
   "outputs": [],
   "source": [
    "st = np.zeros((15,)); st[0] = 1;\n",
    "theor = np.array(st).T @ np.linalg.matrix_power(P, 30)"
   ]
  },
  {
   "cell_type": "code",
   "execution_count": null,
   "metadata": {},
   "outputs": [],
   "source": []
  },
  {
   "cell_type": "code",
   "execution_count": 111,
   "metadata": {},
   "outputs": [],
   "source": [
    "states = np.zeros((k+r))\n",
    "for n in range(1000):\n",
    "    state = 0; time = 0; clients = [0]; times = [0]\n",
    "    #states[0] += 1\n",
    "    for it in range(30):\n",
    "        #time += deltat;\n",
    "        if (state == 0):\n",
    "            state = 1\n",
    "        else:\n",
    "            toss = stat.bernoulli(P[state][state-1]).rvs(1)[0]\n",
    "            if (toss == 1):\n",
    "                state -= 1\n",
    "            else:\n",
    "                state += 1\n",
    "    states[state] += 1\n",
    "        #clients.append(state);\n",
    "        #times.append(time);\n",
    "        "
   ]
  },
  {
   "cell_type": "code",
   "execution_count": 112,
   "metadata": {},
   "outputs": [
    {
     "data": {
      "text/plain": [
       "array([0.06 , 0.   , 0.383, 0.   , 0.388, 0.   , 0.142, 0.   , 0.02 ,\n",
       "       0.   , 0.007, 0.   , 0.   , 0.   , 0.   ])"
      ]
     },
     "execution_count": 112,
     "metadata": {},
     "output_type": "execute_result"
    }
   ],
   "source": [
    "states/1000"
   ]
  },
  {
   "cell_type": "code",
   "execution_count": 113,
   "metadata": {},
   "outputs": [
    {
     "name": "stdout",
     "output_type": "stream",
     "text": [
      "[5.05464027e-02 0.00000000e+00 3.77158476e-01 0.00000000e+00\n",
      " 3.91998205e-01 0.00000000e+00 1.48506253e-01 0.00000000e+00\n",
      " 2.83178914e-02 0.00000000e+00 3.19041911e-03 0.00000000e+00\n",
      " 2.65426451e-04 0.00000000e+00 1.69269374e-05]\n"
     ]
    }
   ],
   "source": [
    "print(theor)"
   ]
  },
  {
   "cell_type": "markdown",
   "metadata": {},
   "source": [
    "### 3"
   ]
  },
  {
   "cell_type": "code",
   "execution_count": 114,
   "metadata": {},
   "outputs": [],
   "source": [
    "k = 10; r = 5; lam = 300; mu = 1;\n",
    "Q = np.zeros((k+r,k+r))\n",
    "\n",
    "Q[0][0] = -lam; Q[0][1] = lam\n",
    "for i in range(1,k + r - 1):\n",
    "    for j in range(k + r):\n",
    "        if (i == j + 1):\n",
    "            Q[i][j] = mu * min(i, k)\n",
    "        elif (i == j):\n",
    "            Q[i][j] = -lam - mu * min(k,i)\n",
    "        elif (i == j - 1):\n",
    "            Q[i][j] = lam\n",
    "            \n",
    "Q[k + r -1][k+r-2] = mu *k;  Q[k + r -1][k+r-1] = -mu *k;\n"
   ]
  },
  {
   "cell_type": "code",
   "execution_count": 115,
   "metadata": {},
   "outputs": [],
   "source": [
    "P = np.zeros((k+r,k+r))\n",
    "for i in range(k+r):\n",
    "    for j in range(k+r):\n",
    "        if (i == j + 1):\n",
    "            P[i][j] = -Q[i][j]/Q[i][i]\n",
    "        elif (i == j - 1):\n",
    "            P[i][j] = -Q[i][j]/Q[i][i]"
   ]
  },
  {
   "cell_type": "code",
   "execution_count": 116,
   "metadata": {},
   "outputs": [],
   "source": [
    "state = 0; time = 0; clients = [0]; times = [0]\n",
    "for it in range(100):\n",
    "    deltat = stat.expon(scale = 1/(lam + mu * min(k, state))).rvs(size = 1)[0]\n",
    "    time += deltat;\n",
    "    if (state == 0):\n",
    "        state = 1\n",
    "    else:\n",
    "        toss = stat.bernoulli(P[state][state-1]).rvs(1)[0]\n",
    "        if (toss == 1):\n",
    "            state -= 1\n",
    "        else:\n",
    "            state += 1\n",
    "    clients.append(state);\n",
    "    times.append(time);"
   ]
  },
  {
   "cell_type": "code",
   "execution_count": 117,
   "metadata": {},
   "outputs": [
    {
     "data": {
      "image/png": "[encoded data removed]",
      "text/plain": [
       "<Figure size 432x288 with 1 Axes>"
      ]
     },
     "metadata": {},
     "output_type": "display_data"
    }
   ],
   "source": [
    "plt.plot(times, clients);\n",
    "plt.xlabel('time')\n",
    "plt.ylabel('clients')\n",
    "plt.show()"
   ]
  },
  {
   "cell_type": "markdown",
   "metadata": {},
   "source": [
    "### 4"
   ]
  },
  {
   "cell_type": "markdown",
   "metadata": {},
   "source": [
    "Вернемся к исходной Q"
   ]
  },
  {
   "cell_type": "code",
   "execution_count": 118,
   "metadata": {},
   "outputs": [],
   "source": [
    "Q = Q0; k = 10; r = 5; lam = 3; mu = 1;\n",
    "P = np.zeros((k+r,k+r))\n",
    "for i in range(k+r):\n",
    "    for j in range(k+r):\n",
    "        if (i == j + 1):\n",
    "            P[i][j] = -Q[i][j]/Q[i][i]\n",
    "        elif (i == j - 1):\n",
    "            P[i][j] = -Q[i][j]/Q[i][i]"
   ]
  },
  {
   "cell_type": "code",
   "execution_count": 128,
   "metadata": {},
   "outputs": [],
   "source": [
    "state = 0; time = 0; clients = [0]; times = [0]; timeinstate = np.zeros((15,));\n",
    "P_est = np.zeros((k + r, k + r))\n",
    "for it in range(10000):\n",
    "    deltat = stat.expon(scale = 1 / (lam + mu * min(k, state))).rvs(size = 1)[0]\n",
    "    timeinstate[state] += deltat;\n",
    "    old_state = state;\n",
    "    \n",
    "    if (state == 0):\n",
    "        state = 1\n",
    "    else:\n",
    "        toss = stat.bernoulli(P[state][state - 1]).rvs(1)[0]\n",
    "        if (toss == 1):\n",
    "            state -= 1\n",
    "        else:\n",
    "            state += 1\n",
    "    clients.append(state);\n",
    "    #times.append(time);\n",
    "    P_est[old_state][state] += 1"
   ]
  },
  {
   "cell_type": "code",
   "execution_count": 127,
   "metadata": {},
   "outputs": [
    {
     "data": {
      "text/plain": [
       "[3.150279260817551,\n",
       " 4.004711177990848,\n",
       " 4.893155339301844,\n",
       " 6.037075425179149,\n",
       " 7.144011331063174,\n",
       " 7.637638997498887,\n",
       " 8.976466058605725,\n",
       " 9.379958586373558,\n",
       " 10.568079982756313,\n",
       " 11.987405074473912,\n",
       " 13.462046439820913,\n",
       " 17.397641334895226,\n",
       " 14.158394148401651,\n",
       " 0,\n",
       " 0]"
      ]
     },
     "execution_count": 127,
     "metadata": {},
     "output_type": "execute_result"
    }
   ],
   "source": [
    "q_i = []\n",
    "for i in range(k + r):\n",
    "    if (clients.count(i) == 0):\n",
    "        q_i.append(0);\n",
    "    else:\n",
    "        q_i.append(clients.count(i) / timeinstate[i])\n",
    "q_i"
   ]
  },
  {
   "cell_type": "code",
   "execution_count": 141,
   "metadata": {},
   "outputs": [
    {
     "data": {
      "text/plain": [
       "[0.28138022958969244,\n",
       " 0.24356847511406673,\n",
       " 0.197579387541592,\n",
       " 0.16507765546430603,\n",
       " 0.14956363079593094,\n",
       " 0.12439730755927883,\n",
       " 0.10201728311988091,\n",
       " 0.0930880779425583,\n",
       " 0.09132118954238733,\n",
       " 0.07342947823448148,\n",
       " 0.10358988634648618,\n",
       " 0.13867302173711782,\n",
       " 0.12074762005889278,\n",
       " 0,\n",
       " 0]"
      ]
     },
     "execution_count": 141,
     "metadata": {},
     "output_type": "execute_result"
    }
   ],
   "source": [
    "new_stuff = []\n",
    "for i in range(k + r):\n",
    "    if (clients.count(i) == 0):\n",
    "        new_stuff.append(0);\n",
    "    else:\n",
    "        new_stuff.append(timeinstate[i] / clients.count(i))\n",
    "new_stuff"
   ]
  },
  {
   "cell_type": "code",
   "execution_count": 139,
   "metadata": {},
   "outputs": [
    {
     "data": {
      "text/plain": [
       "array([[0.        , 1.        , 0.        , 0.        , 0.        ,\n",
       "        0.        , 0.        , 0.        , 0.        , 0.        ,\n",
       "        0.        , 0.        , 0.        , 0.        , 0.        ],\n",
       "       [0.25596529, 0.        , 0.74403471, 0.        , 0.        ,\n",
       "        0.        , 0.        , 0.        , 0.        , 0.        ,\n",
       "        0.        , 0.        , 0.        , 0.        , 0.        ],\n",
       "       [0.        , 0.3898691 , 0.        , 0.6101309 , 0.        ,\n",
       "        0.        , 0.        , 0.        , 0.        , 0.        ,\n",
       "        0.        , 0.        , 0.        , 0.        , 0.        ],\n",
       "       [0.        , 0.        , 0.49150987, 0.        , 0.50849013,\n",
       "        0.        , 0.        , 0.        , 0.        , 0.        ,\n",
       "        0.        , 0.        , 0.        , 0.        , 0.        ],\n",
       "       [0.        , 0.        , 0.        , 0.55156951, 0.        ,\n",
       "        0.44843049, 0.        , 0.        , 0.        , 0.        ,\n",
       "        0.        , 0.        , 0.        , 0.        , 0.        ],\n",
       "       [0.        , 0.        , 0.        , 0.        , 0.62370062,\n",
       "        0.        , 0.37629938, 0.        , 0.        , 0.        ,\n",
       "        0.        , 0.        , 0.        , 0.        , 0.        ],\n",
       "       [0.        , 0.        , 0.        , 0.        , 0.        ,\n",
       "        0.65659008, 0.        , 0.34340992, 0.        , 0.        ,\n",
       "        0.        , 0.        , 0.        , 0.        , 0.        ],\n",
       "       [0.        , 0.        , 0.        , 0.        , 0.        ,\n",
       "        0.        , 0.71536524, 0.        , 0.28463476, 0.        ,\n",
       "        0.        , 0.        , 0.        , 0.        , 0.        ],\n",
       "       [0.        , 0.        , 0.        , 0.        , 0.        ,\n",
       "        0.        , 0.        , 0.74834437, 0.        , 0.25165563,\n",
       "        0.        , 0.        , 0.        , 0.        , 0.        ],\n",
       "       [0.        , 0.        , 0.        , 0.        , 0.        ,\n",
       "        0.        , 0.        , 0.        , 0.7037037 , 0.        ,\n",
       "        0.2962963 , 0.        , 0.        , 0.        , 0.        ],\n",
       "       [0.        , 0.        , 0.        , 0.        , 0.        ,\n",
       "        0.        , 0.        , 0.        , 0.        , 0.8       ,\n",
       "        0.        , 0.2       , 0.        , 0.        , 0.        ],\n",
       "       [0.        , 0.        , 0.        , 0.        , 0.        ,\n",
       "        0.        , 0.        , 0.        , 0.        , 0.        ,\n",
       "        0.8       , 0.        , 0.2       , 0.        , 0.        ],\n",
       "       [0.        , 0.        , 0.        , 0.        , 0.        ,\n",
       "        0.        , 0.        , 0.        , 0.        , 0.        ,\n",
       "        0.        , 1.        , 0.        , 0.        , 0.        ],\n",
       "       [       nan,        nan,        nan,        nan,        nan,\n",
       "               nan,        nan,        nan,        nan,        nan,\n",
       "               nan,        nan,        nan,        nan,        nan],\n",
       "       [       nan,        nan,        nan,        nan,        nan,\n",
       "               nan,        nan,        nan,        nan,        nan,\n",
       "               nan,        nan,        nan,        nan,        nan]])"
      ]
     },
     "execution_count": 139,
     "metadata": {},
     "output_type": "execute_result"
    }
   ],
   "source": [
    "for i in range(k+r):\n",
    "    P_est[i] = P_est[i] / np.linalg.norm(P_est[i], ord = 1)\n",
    "P_est"
   ]
  },
  {
   "cell_type": "code",
   "execution_count": 140,
   "metadata": {},
   "outputs": [
    {
     "data": {
      "text/plain": [
       "array([[ -3.15027926,   3.15027926,   0.        ,   0.        ,\n",
       "          0.        ,   0.        ,   0.        ,   0.        ,\n",
       "          0.        ,   0.        ,   0.        ,   0.        ,\n",
       "          0.        ,   0.        ,   0.        ],\n",
       "       [  1.02506707,  -4.00471118,   2.97964411,   0.        ,\n",
       "          0.        ,   0.        ,   0.        ,   0.        ,\n",
       "          0.        ,   0.        ,   0.        ,   0.        ,\n",
       "          0.        ,   0.        ,   0.        ],\n",
       "       [  0.        ,   1.90769004,  -4.89315534,   2.9854653 ,\n",
       "          0.        ,   0.        ,   0.        ,   0.        ,\n",
       "          0.        ,   0.        ,   0.        ,   0.        ,\n",
       "          0.        ,   0.        ,   0.        ],\n",
       "       [  0.        ,   0.        ,   2.96728214,  -6.03707543,\n",
       "          3.06979329,   0.        ,   0.        ,   0.        ,\n",
       "          0.        ,   0.        ,   0.        ,   0.        ,\n",
       "          0.        ,   0.        ,   0.        ],\n",
       "       [  0.        ,   0.        ,   0.        ,   3.94041881,\n",
       "         -7.14401133,   3.20359253,   0.        ,   0.        ,\n",
       "          0.        ,   0.        ,   0.        ,   0.        ,\n",
       "          0.        ,   0.        ,   0.        ],\n",
       "       [  0.        ,   0.        ,   0.        ,   0.        ,\n",
       "          4.76360021,  -7.637639  ,   2.87403879,   0.        ,\n",
       "          0.        ,   0.        ,   0.        ,   0.        ,\n",
       "          0.        ,   0.        ,   0.        ],\n",
       "       [  0.        ,   0.        ,   0.        ,   0.        ,\n",
       "          0.        ,   5.89385861,  -8.97646606,   3.08260745,\n",
       "          0.        ,   0.        ,   0.        ,   0.        ,\n",
       "          0.        ,   0.        ,   0.        ],\n",
       "       [  0.        ,   0.        ,   0.        ,   0.        ,\n",
       "          0.        ,   0.        ,   6.71009632,  -9.37995859,\n",
       "          2.66986227,   0.        ,   0.        ,   0.        ,\n",
       "          0.        ,   0.        ,   0.        ],\n",
       "       [  0.        ,   0.        ,   0.        ,   0.        ,\n",
       "          0.        ,   0.        ,   0.        ,   7.90856317,\n",
       "        -10.56807998,   2.65951682,   0.        ,   0.        ,\n",
       "          0.        ,   0.        ,   0.        ],\n",
       "       [  0.        ,   0.        ,   0.        ,   0.        ,\n",
       "          0.        ,   0.        ,   0.        ,   0.        ,\n",
       "          8.43558135, -11.98740507,   3.55182373,   0.        ,\n",
       "          0.        ,   0.        ,   0.        ],\n",
       "       [  0.        ,   0.        ,   0.        ,   0.        ,\n",
       "          0.        ,   0.        ,   0.        ,   0.        ,\n",
       "          0.        ,  10.76963715, -13.46204644,   2.69240929,\n",
       "          0.        ,   0.        ,   0.        ],\n",
       "       [  0.        ,   0.        ,   0.        ,   0.        ,\n",
       "          0.        ,   0.        ,   0.        ,   0.        ,\n",
       "          0.        ,   0.        ,  13.91811307, -17.39764133,\n",
       "          3.47952827,   0.        ,   0.        ],\n",
       "       [  0.        ,   0.        ,   0.        ,   0.        ,\n",
       "          0.        ,   0.        ,   0.        ,   0.        ,\n",
       "          0.        ,   0.        ,   0.        ,  14.15839415,\n",
       "        -14.15839415,   0.        ,   0.        ],\n",
       "       [  0.        ,   0.        ,   0.        ,   0.        ,\n",
       "          0.        ,   0.        ,   0.        ,   0.        ,\n",
       "          0.        ,   0.        ,   0.        ,   0.        ,\n",
       "          0.        ,   0.        ,   0.        ],\n",
       "       [  0.        ,   0.        ,   0.        ,   0.        ,\n",
       "          0.        ,   0.        ,   0.        ,   0.        ,\n",
       "          0.        ,   0.        ,   0.        ,   0.        ,\n",
       "          0.        ,   0.        ,   0.        ]])"
      ]
     },
     "execution_count": 140,
     "metadata": {},
     "output_type": "execute_result"
    }
   ],
   "source": [
    "Q_est = np.zeros((k+r,k+r))\n",
    "\n",
    "Q_est[0][0] = -q_i[0]; Q_est[0][1] = q_i[0]\n",
    "for i in range(1,k + r - 2):\n",
    "    for j in range(k + r):\n",
    "        if (i == j + 1):\n",
    "            Q_est[i][j] = q_i[i] * P_est[i][j]\n",
    "        elif (i == j):\n",
    "            Q_est[i][j] = -q_i[i]\n",
    "        elif (i == j - 1):\n",
    "            Q_est[i][j]  = q_i[i] * P_est[i][j]\n",
    "            \n",
    "Q_est[k + r -1][k+r-2] = q_i[k+r-1];  Q_est[k + r -1][k+r-1] = -q_i[k+r-1];\n",
    "Q_est"
   ]
  }
 ],
 "metadata": {
  "kernelspec": {
   "display_name": "Python 3",
   "language": "python",
   "name": "python3"
  },
  "language_info": {
   "codemirror_mode": {
    "name": "ipython",
    "version": 3
   },
   "file_extension": ".py",
   "mimetype": "text/x-python",
   "name": "python",
   "nbconvert_exporter": "python",
   "pygments_lexer": "ipython3",
   "version": "3.8.3"
  }
 },
 "nbformat": 4,
 "nbformat_minor": 4
}
