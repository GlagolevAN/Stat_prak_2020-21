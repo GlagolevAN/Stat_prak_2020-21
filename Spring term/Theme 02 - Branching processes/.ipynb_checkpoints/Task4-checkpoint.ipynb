{
 "cells": [
  {
   "cell_type": "code",
   "execution_count": 22,
   "metadata": {},
   "outputs": [],
   "source": [
    "import matplotlib.pyplot as plt\n",
    "import numpy as np\n",
    "import random as rnd\n",
    "import math as m\n",
    "import pandas as pd\n",
    "import scipy.stats as stat\n",
    "import scipy.optimize as opt\n",
    "import seaborn as sb\n",
    "from scipy.integrate import quad\n",
    "from scipy.integrate import dblquad\n",
    "from scipy.special import comb\n",
    "from sklearn.linear_model import LinearRegression\n",
    "plt.style.use('ggplot')\n",
    "\n",
    "my_norm = lambda exp, disp: stat.norm(loc = exp, scale = m.sqrt(disp))"
   ]
  },
  {
   "cell_type": "code",
   "execution_count": null,
   "metadata": {},
   "outputs": [],
   "source": []
  },
  {
   "cell_type": "code",
   "execution_count": 18,
   "metadata": {},
   "outputs": [
    {
     "name": "stdout",
     "output_type": "stream",
     "text": [
      "meaner [0.0, 0.0, 0.0, 0.5, 0.0, 0.0, 0.0, 0.0, 0.5, 0.0]\n",
      "my Z_n estimate = 0.1858280158730159 \n",
      "theory gives us value = 0.42857142857142866 \n",
      "\n",
      "my Y_n estimate = 0.1222456138632609 \n",
      "theory gives us value = 0.42857142857142866\n",
      "y_metric [0.0, 0.0, 0.0, 0.3333333333333333, 0.0, 0.0, 0.0, 0.0, 0.3333333333333333, 0.0]\n"
     ]
    }
   ],
   "source": [
    "meaner = []\n",
    "y_metric = []\n",
    "for samplesize in range(500):\n",
    "    it = 0; p = 0.7;\n",
    "    zs = [1]\n",
    "    while (it < 40) and (zs[-1] > 0):\n",
    "        zs.append(sum(stat.geom(p).rvs(zs[-1])) - zs[-1])\n",
    "        it += 1\n",
    "\n",
    "    #plt.plot(np.arange(len(zs)), zs);\n",
    "    ratios = []\n",
    "    for i in range(len(zs) - 1):\n",
    "        ratios.append(zs[i+1] / zs[i])\n",
    "    meaner.append(np.mean(ratios))\n",
    "    y_metric.append((sum(zs) - 1) / (1 + sum(zs[0:-1])))\n",
    "\n",
    "print('meaner', meaner[0:10])\n",
    "print('my Z_n estimate =', np.mean(meaner), '\\ntheory gives us value =', (1-p)/p, '\\n')\n",
    "print('my Y_n estimate =', np.mean(y_metric), '\\ntheory gives us value =', (1-p)/p)\n",
    "\n",
    "print('y_metric', y_metric[0:10])"
   ]
  },
  {
   "cell_type": "code",
   "execution_count": 20,
   "metadata": {},
   "outputs": [
    {
     "name": "stdout",
     "output_type": "stream",
     "text": [
      "meaner [0.0, 0.0, 0.0, 0.0, 0.0, 0.5, 0.0, 1.0, 0.5, 0.0]\n",
      "my Z_n estimate = 0.4688106555747254 \n",
      "theory gives us value = 1.0 \n",
      "\n",
      "my Y_n estimate = 0.3255784142422334 \n",
      "theory gives us value = 1.0\n",
      "y_metric [0.0, 0.0, 0.0, 0.0, 0.0, 0.3333333333333333, 0.0, 0.8888888888888888, 0.3333333333333333, 0.0]\n"
     ]
    }
   ],
   "source": [
    "meaner = []\n",
    "y_metric = []\n",
    "for samplesize in range(500):\n",
    "    it = 0; p = 0.5;\n",
    "    zs = [1]\n",
    "    while (it < 40) and (zs[-1] > 0):\n",
    "        zs.append(sum(stat.geom(p).rvs(zs[-1])) - zs[-1])\n",
    "        it += 1\n",
    "\n",
    "    #plt.plot(np.arange(len(zs)), zs);\n",
    "    ratios = []\n",
    "    for i in range(len(zs) - 1):\n",
    "        ratios.append(zs[i+1] / zs[i])\n",
    "    meaner.append(np.mean(ratios))\n",
    "    y_metric.append((sum(zs) - 1) / (1 + sum(zs[0:-1])))\n",
    "\n",
    "print('meaner', meaner[0:10])\n",
    "print('my Z_n estimate =', np.mean(meaner), '\\ntheory gives us value =', (1-p)/p, '\\n')\n",
    "print('my Y_n estimate =', np.mean(y_metric), '\\ntheory gives us value =', (1-p)/p)\n",
    "\n",
    "print('y_metric', y_metric[0:10])"
   ]
  },
  {
   "cell_type": "code",
   "execution_count": null,
   "metadata": {},
   "outputs": [],
   "source": [
    "meaner = []\n",
    "y_metric = []\n",
    "\n",
    "it = 0; p = 0.4;\n",
    "zs = [1]\n",
    "while (it < 50) and (zs[-1] > 0):\n",
    "    zs.append(sum(stat.geom(p).rvs(zs[-1])) - zs[-1])\n",
    "    it += 1\n",
    "\n",
    "    #plt.plot(np.arange(len(zs)), zs);\n",
    "ratios = []\n",
    "for i in range(len(zs) - 1):\n",
    "    ratios.append(zs[i+1] / zs[i])\n",
    "meaner.append(np.mean(ratios))\n",
    "y_metric.append((sum(zs) - 1) / (1 + sum(zs[0:-1])))\n",
    "\n",
    "print('meaner', meaner[0:10])\n",
    "print('my Z_n estimate =', np.mean(meaner), '\\ntheory gives us value =', (1-p)/p, '\\n')\n",
    "print('my Y_n estimate =', np.mean(y_metric), '\\ntheory gives us value =', (1-p)/p)\n",
    "\n",
    "print('y_metric', y_metric[0:10])"
   ]
  },
  {
   "cell_type": "code",
   "execution_count": null,
   "metadata": {},
   "outputs": [],
   "source": []
  },
  {
   "cell_type": "code",
   "execution_count": null,
   "metadata": {},
   "outputs": [],
   "source": []
  },
  {
   "cell_type": "code",
   "execution_count": null,
   "metadata": {},
   "outputs": [],
   "source": []
  },
  {
   "cell_type": "markdown",
   "metadata": {},
   "source": [
    "$\\varphi (s) = \\dfrac{p}{1 - sq}$\n",
    "\n",
    "$\\dfrac{p}{1 - sq} = s \\Rightarrow p = s - qs^2 \\Rightarrow  s = \\dfrac{p}{q}$"
   ]
  },
  {
   "cell_type": "code",
   "execution_count": null,
   "metadata": {},
   "outputs": [],
   "source": []
  }
 ],
 "metadata": {
  "kernelspec": {
   "display_name": "Python 3",
   "language": "python",
   "name": "python3"
  },
  "language_info": {
   "codemirror_mode": {
    "name": "ipython",
    "version": 3
   },
   "file_extension": ".py",
   "mimetype": "text/x-python",
   "name": "python",
   "nbconvert_exporter": "python",
   "pygments_lexer": "ipython3",
   "version": "3.8.3"
  }
 },
 "nbformat": 4,
 "nbformat_minor": 4
}
