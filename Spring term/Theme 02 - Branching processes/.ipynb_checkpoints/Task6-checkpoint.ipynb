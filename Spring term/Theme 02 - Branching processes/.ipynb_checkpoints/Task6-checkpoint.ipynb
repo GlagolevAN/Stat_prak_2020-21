{
 "cells": [
  {
   "cell_type": "code",
   "execution_count": 51,
   "metadata": {},
   "outputs": [],
   "source": [
    "import matplotlib.pyplot as plt\n",
    "import numpy as np\n",
    "import random as rnd\n",
    "import math as m\n",
    "import pandas as pd\n",
    "import scipy.stats as stat\n",
    "import scipy.optimize as opt\n",
    "import seaborn as sb\n",
    "from scipy.integrate import quad\n",
    "from scipy.integrate import dblquad\n",
    "from scipy.special import comb\n",
    "from sklearn.linear_model import LinearRegression\n",
    "plt.style.use('ggplot')\n",
    "\n",
    "my_norm = lambda exp, disp: stat.norm(loc = exp, scale = m.sqrt(disp))"
   ]
  },
  {
   "cell_type": "code",
   "execution_count": 1,
   "metadata": {},
   "outputs": [],
   "source": []
  },
  {
   "cell_type": "code",
   "execution_count": 106,
   "metadata": {},
   "outputs": [],
   "source": [
    "import random as random\n",
    "class Node:\n",
    "    child = []\n",
    "    def __init__(self, y,r):\n",
    "        self.parent=y\n",
    "        self.s=r\n",
    "        self.child = list()\n",
    "        self.ind=0\n",
    "    def add_child(self, x):\n",
    "        (self.child).append(x)\n",
    "\n",
    "def z_n(p,z_prev):\n",
    "    s = (np.sum(stat.geom(p).rvs(size=z_prev))-z_prev)\n",
    "    return s\n",
    "\n",
    "def pr(a,c):\n",
    "    print('-' * 4 * c + str(a.s) + '_' + str(a.ind))\n",
    "    #print('-' * 4*c + str(a.ind))\n",
    "    if c==4:\n",
    "        return\n",
    "    #if len(a.child)==0:\n",
    "        #print('----'*c + 'and it has no children')\n",
    "    for i in range(len(a.child)):\n",
    "        pr((a.child)[i], c + 1)\n",
    "    \n",
    "     \n",
    "def add(a, c, n, p, list_of_random):\n",
    "    if n == c:\n",
    "        list_of_random.append(a)\n",
    "        return\n",
    "    k = z_n(p,1)\n",
    "    for i in range(k):\n",
    "        t = Node(a,c)\n",
    "        a.add_child(t)\n",
    "    for i in range(k):\n",
    "        add(a.child[i], c + 1, n, p, list_of_random)\n",
    "\n",
    "\n",
    "def found(x, y):\n",
    "    while(x != y):\n",
    "        if x.s > y.s:\n",
    "            x = x.parent\n",
    "        elif x.s == y.s:\n",
    "            x = x.parent\n",
    "            y = y.parent\n",
    "        elif y.s > x.s:\n",
    "            y = y.parent\n",
    "    x.ind = 2\n",
    "    return x"
   ]
  },
  {
   "cell_type": "code",
   "execution_count": 107,
   "metadata": {},
   "outputs": [
    {
     "name": "stdout",
     "output_type": "stream",
     "text": [
      "Population = 5\n",
      "1_0\n",
      "----1_0\n",
      "--------2_2\n",
      "------------3_0\n",
      "----------------4_0\n",
      "----------------4_0\n",
      "----------------4_1\n",
      "------------3_0\n",
      "----------------4_0\n",
      "----------------4_1\n",
      "--------2_0\n",
      "--------2_0\n"
     ]
    }
   ],
   "source": [
    "p = 1/3; n = 5; a = Node(-1, 1); root = a\n",
    "list_of_random = []\n",
    "\n",
    "add(a, 1, n, p, list_of_random)\n",
    "\n",
    "if (len(list_of_random) > 0): \n",
    "    print('Population =', len(list_of_random))\n",
    "\n",
    "    a1 = random.randrange(0, len(list_of_random))\n",
    "    list_of_random[a1].ind = 1\n",
    "    a2 = random.randrange(0, len(list_of_random))\n",
    "    while a1 == a2:\n",
    "        a2 = random.randrange(0, len(list_of_random))\n",
    "    list_of_random[a2].ind = 1\n",
    "\n",
    "    b = found(list_of_random[a1], list_of_random[a2])\n",
    "    pr(root, 0)\n",
    "else:\n",
    "    print('Noone is alive now')"
   ]
  },
  {
   "cell_type": "markdown",
   "metadata": {},
   "source": [
    "##### Выбираем две частицы (1), и ищем их ближайшего общего предка (2)"
   ]
  }
 ],
 "metadata": {
  "kernelspec": {
   "display_name": "Python 3",
   "language": "python",
   "name": "python3"
  },
  "language_info": {
   "codemirror_mode": {
    "name": "ipython",
    "version": 3
   },
   "file_extension": ".py",
   "mimetype": "text/x-python",
   "name": "python",
   "nbconvert_exporter": "python",
   "pygments_lexer": "ipython3",
   "version": "3.8.8"
  }
 },
 "nbformat": 4,
 "nbformat_minor": 4
}
