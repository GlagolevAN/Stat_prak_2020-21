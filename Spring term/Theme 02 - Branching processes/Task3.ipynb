{
 "cells": [
  {
   "cell_type": "code",
   "execution_count": 2,
   "metadata": {},
   "outputs": [],
   "source": [
    "import matplotlib.pyplot as plt\n",
    "import numpy as np\n",
    "import random as rnd\n",
    "import math as m\n",
    "import pandas as pd\n",
    "import scipy.stats as stat\n",
    "import scipy.optimize as opt\n",
    "import seaborn as sb\n",
    "from scipy.integrate import quad\n",
    "from scipy.integrate import dblquad\n",
    "from scipy.special import comb\n",
    "from sklearn.linear_model import LinearRegression\n",
    "plt.style.use('ggplot')\n",
    "\n",
    "my_norm = lambda exp, disp: stat.norm(loc = exp, scale = m.sqrt(disp))"
   ]
  },
  {
   "cell_type": "code",
   "execution_count": null,
   "metadata": {},
   "outputs": [],
   "source": []
  },
  {
   "cell_type": "markdown",
   "metadata": {},
   "source": [
    "$\\varphi (s) = \\dfrac{p}{1 - sq}$\n",
    "\n",
    "$\\dfrac{p}{1 - sq} = s \\Rightarrow p = s - qs^2 \\Rightarrow  s = \\dfrac{p}{q} > 0.8 \\Rightarrow p > 4/9$"
   ]
  },
  {
   "cell_type": "code",
   "execution_count": 43,
   "metadata": {},
   "outputs": [
    {
     "data": {
      "image/png": "[encoded data removed]",
      "text/plain": [
       "<Figure size 432x288 with 1 Axes>"
      ]
     },
     "metadata": {},
     "output_type": "display_data"
    }
   ],
   "source": [
    "flag = 0\n",
    "while (flag == 0):\n",
    "    it = 0; p = 4/9 + 1/10;\n",
    "    zs = [1]\n",
    "    while (it < 40) and (zs[-1] > 0):\n",
    "        zs.append(sum(stat.geom(p).rvs(zs[-1])) - zs[-1])\n",
    "        it += 1\n",
    "    if (len(zs) > 30):\n",
    "        flag = 1\n",
    "    \n",
    "plt.plot(np.arange(len(zs)), zs);"
   ]
  },
  {
   "cell_type": "code",
   "execution_count": 48,
   "metadata": {},
   "outputs": [
    {
     "name": "stdout",
     "output_type": "stream",
     "text": [
      "1.2775863057051697\n"
     ]
    }
   ],
   "source": [
    "ratios = []\n",
    "for i in range(len(zs) - 1):\n",
    "    ratios.append(zs[i+1] / zs[i])\n",
    "print(np.mean(ratios))"
   ]
  },
  {
   "cell_type": "code",
   "execution_count": null,
   "metadata": {},
   "outputs": [],
   "source": []
  }
 ],
 "metadata": {
  "kernelspec": {
   "display_name": "Python 3",
   "language": "python",
   "name": "python3"
  },
  "language_info": {
   "codemirror_mode": {
    "name": "ipython",
    "version": 3
   },
   "file_extension": ".py",
   "mimetype": "text/x-python",
   "name": "python",
   "nbconvert_exporter": "python",
   "pygments_lexer": "ipython3",
   "version": "3.8.3"
  }
 },
 "nbformat": 4,
 "nbformat_minor": 4
}
