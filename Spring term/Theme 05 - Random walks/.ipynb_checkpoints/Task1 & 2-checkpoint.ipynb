{
 "cells": [
  {
   "cell_type": "code",
   "execution_count": 1,
   "metadata": {},
   "outputs": [],
   "source": [
    "import matplotlib.pyplot as plt\n",
    "import numpy as np\n",
    "import random as rnd\n",
    "import math as m\n",
    "import pandas as pd\n",
    "import scipy.stats as stat\n",
    "import scipy.optimize as opt\n",
    "import seaborn as sb\n",
    "from scipy.integrate import quad\n",
    "from scipy.integrate import dblquad\n",
    "from scipy.special import comb\n",
    "from sklearn.linear_model import LinearRegression\n",
    "plt.style.use('ggplot')\n",
    "\n",
    "my_norm = lambda exp, disp: stat.norm(loc = exp, scale = m.sqrt(disp))"
   ]
  },
  {
   "cell_type": "code",
   "execution_count": 6,
   "metadata": {},
   "outputs": [],
   "source": [
    "def pmone():\n",
    "    return 2 * stat.bernoulli(0.5).rvs() - 1"
   ]
  },
  {
   "cell_type": "code",
   "execution_count": 53,
   "metadata": {},
   "outputs": [
    {
     "name": "stdout",
     "output_type": "stream",
     "text": [
      "-1\n"
     ]
    }
   ],
   "source": [
    "print(pmone())"
   ]
  },
  {
   "cell_type": "code",
   "execution_count": null,
   "metadata": {},
   "outputs": [],
   "source": [
    "sample = []\n",
    "for i in range(100):\n",
    "    summa = 0; beta = 0;\n",
    "    for j in range(1000):\n",
    "        summa += pmone()\n",
    "        if (summa == 0):\n",
    "            beta = j + 1;\n",
    "    sample.append(beta)"
   ]
  },
  {
   "cell_type": "code",
   "execution_count": null,
   "metadata": {},
   "outputs": [],
   "source": [
    "sample = np.array(sample)\n",
    "sample.sort()\n",
    "sample"
   ]
  },
  {
   "cell_type": "code",
   "execution_count": null,
   "metadata": {},
   "outputs": [],
   "source": [
    "plt.plot(sample/1000, np.linspace(0, 1, 100))\n",
    "xaxes = np.linspace(0, 1, 100)\n",
    "plt.plot(xaxes, stat.arcsine.cdf(xaxes))"
   ]
  },
  {
   "cell_type": "markdown",
   "metadata": {},
   "source": [
    "# TASK 2"
   ]
  },
  {
   "cell_type": "code",
   "execution_count": null,
   "metadata": {},
   "outputs": [],
   "source": []
  }
 ],
 "metadata": {
  "kernelspec": {
   "display_name": "Python 3",
   "language": "python",
   "name": "python3"
  },
  "language_info": {
   "codemirror_mode": {
    "name": "ipython",
    "version": 3
   },
   "file_extension": ".py",
   "mimetype": "text/x-python",
   "name": "python",
   "nbconvert_exporter": "python",
   "pygments_lexer": "ipython3",
   "version": "3.8.3"
  }
 },
 "nbformat": 4,
 "nbformat_minor": 4
}
