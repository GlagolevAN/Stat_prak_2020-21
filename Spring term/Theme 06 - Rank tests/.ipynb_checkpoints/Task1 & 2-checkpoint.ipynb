{
 "cells": [
  {
   "cell_type": "code",
   "execution_count": 2,
   "metadata": {},
   "outputs": [],
   "source": [
    "import matplotlib.pyplot as plt\n",
    "import numpy as np\n",
    "import random as rnd\n",
    "import math as m\n",
    "import pandas as pd\n",
    "import scipy.stats as stat\n",
    "import scipy.optimize as opt\n",
    "import seaborn as sb\n",
    "from scipy.integrate import quad\n",
    "from scipy.integrate import dblquad\n",
    "from scipy.special import comb\n",
    "from sklearn.linear_model import LinearRegression\n",
    "plt.style.use('ggplot')\n",
    "\n",
    "my_norm = lambda exp, disp: stat.norm(loc = exp, scale = m.sqrt(disp))\n",
    "from mpmath import mp\n",
    "#from mpmath import e"
   ]
  },
  {
   "cell_type": "code",
   "execution_count": null,
   "metadata": {},
   "outputs": [],
   "source": []
  },
  {
   "cell_type": "code",
   "execution_count": 3,
   "metadata": {},
   "outputs": [],
   "source": [
    "mp.dps = 1000  # set number of digits\n",
    "my_pi = '3' + str(mp.pi)[2:]\n",
    "my_pi = [elem for elem in my_pi]\n",
    "my_e = '2' + str(mp.e)[2:]\n",
    "my_e = [elem for elem in my_e]"
   ]
  },
  {
   "cell_type": "code",
   "execution_count": 4,
   "metadata": {},
   "outputs": [
    {
     "name": "stdout",
     "output_type": "stream",
     "text": [
      "[93, 116, 103, 103, 93, 97, 94, 95, 100, 106]\n"
     ]
    },
    {
     "data": {
      "image/png": "[encoded data removed]",
      "text/plain": [
       "<Figure size 432x288 with 1 Axes>"
      ]
     },
     "metadata": {},
     "output_type": "display_data"
    }
   ],
   "source": [
    "distribution = [0 for i in range(10)]\n",
    "for elem in my_pi:\n",
    "    distribution[int(elem)]+= 1\n",
    "    \n",
    "print(distribution)\n",
    "sb.distplot(distribution, bins = 30, kde=False);"
   ]
  },
  {
   "cell_type": "code",
   "execution_count": 5,
   "metadata": {},
   "outputs": [
    {
     "data": {
      "text/plain": [
       "0.028792120696197902"
      ]
     },
     "execution_count": 5,
     "metadata": {},
     "output_type": "execute_result"
    }
   ],
   "source": [
    "stat.chisquare(distribution, [100 for i in range(10)], ddof = 8).pvalue"
   ]
  },
  {
   "cell_type": "code",
   "execution_count": 6,
   "metadata": {},
   "outputs": [],
   "source": [
    "for i in range(10000):\n",
    "    perm = np.random.permutation(my_pi)\n",
    "    distribution = [0 for i in range(10)]\n",
    "    for elem in my_pi:\n",
    "        distribution[int(elem)] += 1"
   ]
  },
  {
   "cell_type": "code",
   "execution_count": null,
   "metadata": {},
   "outputs": [],
   "source": []
  },
  {
   "cell_type": "code",
   "execution_count": 7,
   "metadata": {},
   "outputs": [
    {
     "name": "stdout",
     "output_type": "stream",
     "text": [
      "[100, 96, 98, 109, 99, 85, 99, 99, 103, 112]\n"
     ]
    },
    {
     "data": {
      "image/png": "[encoded data removed]",
      "text/plain": [
       "<Figure size 432x288 with 1 Axes>"
      ]
     },
     "metadata": {},
     "output_type": "display_data"
    }
   ],
   "source": [
    "distribution = [0 for i in range(10)]\n",
    "for elem in my_e:\n",
    "    distribution[int(elem)]+= 1\n",
    "    \n",
    "print(distribution)\n",
    "sb.distplot(distribution, bins = 30, kde=False);"
   ]
  },
  {
   "cell_type": "code",
   "execution_count": 8,
   "metadata": {},
   "outputs": [
    {
     "data": {
      "text/plain": [
       "0.028131345277550394"
      ]
     },
     "execution_count": 8,
     "metadata": {},
     "output_type": "execute_result"
    }
   ],
   "source": [
    "stat.chisquare(distribution, [100 for i in range(10)], ddof = 8).pvalue"
   ]
  },
  {
   "cell_type": "code",
   "execution_count": 9,
   "metadata": {},
   "outputs": [
    {
     "data": {
      "text/plain": [
       "1.0"
      ]
     },
     "execution_count": 9,
     "metadata": {},
     "output_type": "execute_result"
    }
   ],
   "source": [
    "stat.chisquare([100 for i in range(10)], [100 for i in range(10)], ddof = 8).pvalue"
   ]
  },
  {
   "cell_type": "code",
   "execution_count": null,
   "metadata": {},
   "outputs": [],
   "source": []
  },
  {
   "cell_type": "code",
   "execution_count": 28,
   "metadata": {},
   "outputs": [
    {
     "name": "stdout",
     "output_type": "stream",
     "text": [
      "0.5218252926713733\n",
      "0.9219292441754194\n"
     ]
    }
   ],
   "source": [
    "distribution_pi = [0 for i in range(10)]\n",
    "for elem in my_pi:\n",
    "    distribution_pi[int(elem)]+= 1\n",
    "    \n",
    "distribution_e = [0 for i in range(10)]\n",
    "for elem in my_e:\n",
    "    distribution_e[int(elem)]+= 1\n",
    "print(stat.chisquare(distribution_pi, distribution_e, ddof = 0).pvalue)\n",
    "\n",
    "print(stat.chi2_contingency([distribution_pi, distribution_e])[1])"
   ]
  },
  {
   "cell_type": "code",
   "execution_count": 27,
   "metadata": {},
   "outputs": [
    {
     "name": "stdout",
     "output_type": "stream",
     "text": [
      "0.6755698554664746\n",
      "0.9517053310727985\n"
     ]
    }
   ],
   "source": [
    "distribution_pi = [0 for i in range(10)]\n",
    "for elem in my_pi[:700]:\n",
    "    distribution_pi[int(elem)]+= 1\n",
    "    \n",
    "distribution_e = [0 for i in range(10)]\n",
    "for elem in my_e[:700]:\n",
    "    distribution_e[int(elem)]+= 1\n",
    "print(stat.chisquare(distribution_pi, distribution_e, ddof = 0).pvalue)\n",
    "\n",
    "print(stat.chi2_contingency([distribution_pi, distribution_e])[1])"
   ]
  },
  {
   "cell_type": "code",
   "execution_count": 25,
   "metadata": {},
   "outputs": [
    {
     "name": "stdout",
     "output_type": "stream",
     "text": [
      "0.002042643834653256\n",
      "0.10692669718262399\n"
     ]
    }
   ],
   "source": [
    "distribution_pi = [0 for i in range(10)]\n",
    "for elem in my_pi[:400]:\n",
    "    distribution_pi[int(elem)]+= 1\n",
    "    \n",
    "distribution_e = [0 for i in range(10)]\n",
    "for elem in my_e[:400]:\n",
    "    distribution_e[int(elem)]+= 1\n",
    "print(stat.chisquare(distribution_pi, distribution_e, ddof = 0).pvalue)\n",
    "\n",
    "print(stat.chi2_contingency([distribution_pi, distribution_e])[1])"
   ]
  },
  {
   "cell_type": "code",
   "execution_count": null,
   "metadata": {},
   "outputs": [],
   "source": []
  },
  {
   "cell_type": "code",
   "execution_count": null,
   "metadata": {},
   "outputs": [],
   "source": []
  },
  {
   "cell_type": "markdown",
   "metadata": {},
   "source": [
    "## Permutations"
   ]
  },
  {
   "cell_type": "code",
   "execution_count": 30,
   "metadata": {},
   "outputs": [
    {
     "name": "stdout",
     "output_type": "stream",
     "text": [
      "26.000449353986895\n",
      "For length = 400 p-value is 0.16778322167783222\n",
      "6.630091383142556\n",
      "For length = 700 p-value is 0.9195080491950804\n",
      "8.122746573882665\n",
      "For length = 1000 p-value is 0.8799120087991201\n"
     ]
    }
   ],
   "source": [
    "samplesize = 10000\n",
    "for length in [400, 700, 1000]:\n",
    "    #calculating original chisq\n",
    "    distribution_pi = [0 for i in range(10)]\n",
    "    for elem in my_pi[:length]:\n",
    "        distribution_pi[int(elem)] += 1\n",
    "    distribution_e = [0 for i in range(10)]\n",
    "    for elem in my_e[:length]:\n",
    "        distribution_e[int(elem)] += 1\n",
    "        \n",
    "    T_0 = stat.chisquare(distribution_pi, distribution_e, ddof = 0).statistic\n",
    "    print(T_0)\n",
    "    \n",
    "    #permutations\n",
    "    counter = 0;\n",
    "    for j in range(samplesize):\n",
    "        tmp = my_pi[:length] + my_e[:length]\n",
    "        tmp = np.random.permutation(tmp)\n",
    "        new_pi = tmp[0:length]\n",
    "        new_e = tmp[length:2*length]\n",
    "        distribution_pi = [0 for i in range(10)]\n",
    "        for elem in new_pi[:length]:\n",
    "            distribution_pi[int(elem)] += 1\n",
    "        distribution_e = [0 for i in range(10)]\n",
    "        for elem in new_e[:length]:\n",
    "            distribution_e[int(elem)] += 1\n",
    "        \n",
    "        #print(stat.chisquare(distribution_pi, distribution_e, ddof = 0).statistic)\n",
    "        if (stat.chisquare(distribution_pi, distribution_e, ddof = 0).statistic > T_0+1):\n",
    "            counter += 1\n",
    "        #print(stat.chisquare(distribution_pi, distribution_e, ddof = 0).statistic)\n",
    "        \n",
    "        \n",
    "    #print('\\n\\n\\n\\n')\n",
    "    #getting p-value\n",
    "    print('For length =', length, 'p-value is', (counter + 1) /(samplesize + 1))"
   ]
  },
  {
   "cell_type": "code",
   "execution_count": 66,
   "metadata": {},
   "outputs": [
    {
     "data": {
      "text/plain": [
       "array(['4', '0', '3', ..., '4', '9', '9'], dtype='<U1')"
      ]
     },
     "execution_count": 66,
     "metadata": {},
     "output_type": "execute_result"
    }
   ],
   "source": [
    "tmp = my_pi[:length] + my_e[:length]\n",
    "np.random.permutation(tmp)"
   ]
  },
  {
   "cell_type": "code",
   "execution_count": null,
   "metadata": {},
   "outputs": [],
   "source": []
  },
  {
   "cell_type": "markdown",
   "metadata": {},
   "source": [
    "# TASK 2"
   ]
  },
  {
   "cell_type": "code",
   "execution_count": 83,
   "metadata": {},
   "outputs": [],
   "source": [
    "sample = stat.multivariate_normal([1, 2], \\\n",
    "                                  [[1, 0.5], [0.5, 1]]).rvs(100)\n",
    "sample0 = [elem[0] for elem in sample]\n",
    "sample1 = [elem[1] for elem in sample]"
   ]
  },
  {
   "cell_type": "code",
   "execution_count": 85,
   "metadata": {},
   "outputs": [],
   "source": [
    "#p_wilcox = stat.wilcoxon(sample0, sample1)"
   ]
  },
  {
   "cell_type": "code",
   "execution_count": 86,
   "metadata": {},
   "outputs": [],
   "source": [
    "iters = 100"
   ]
  },
  {
   "cell_type": "code",
   "execution_count": 96,
   "metadata": {},
   "outputs": [
    {
     "data": {
      "image/png": "[encoded data removed]",
      "text/plain": [
       "<Figure size 720x576 with 1 Axes>"
      ]
     },
     "metadata": {},
     "output_type": "display_data"
    }
   ],
   "source": [
    "p_wilx = []; p_ranks = []\n",
    "for i in range(iters):\n",
    "    sample = stat.multivariate_normal([1, 2], \\\n",
    "                                  [[1, 0.5], [0.5, 1]]).rvs(50)\n",
    "    sample0 = [elem[0] for elem in sample]\n",
    "    sample1 = [elem[1] for elem in sample]\n",
    "    \n",
    "    p_wilx.append(stat.wilcoxon(sample0, sample1).pvalue); p_ranks.append(stat.ranksums(sample0, sample1).pvalue)\n",
    "    \n",
    "x_axes = np.linspace(0, 1, iters)\n",
    "\n",
    "plt.figure(figsize = (10,8))\n",
    "plt.plot(sorted(p_wilx), x_axes, label = 'Знаковых рангов')\n",
    "plt.plot(sorted(p_ranks), x_axes, label = 'Ранговых сумм')\n",
    "plt.legend()\n",
    "\n",
    "plt.show()"
   ]
  },
  {
   "cell_type": "code",
   "execution_count": 101,
   "metadata": {},
   "outputs": [
    {
     "data": {
      "image/png": "[encoded data removed]",
      "text/plain": [
       "<Figure size 720x576 with 1 Axes>"
      ]
     },
     "metadata": {},
     "output_type": "display_data"
    }
   ],
   "source": [
    "p_wilx = []; p_ranks = []\n",
    "for i in range(iters):\n",
    "    sample0 = stat.cauchy.rvs(size = 100)\n",
    "    sample1 = [elem + stat.bernoulli(0.5).rvs() for elem in sample0]\n",
    "    \n",
    "    p_wilx.append(stat.wilcoxon(sample0, sample1).pvalue); p_ranks.append(stat.ranksums(sample0, sample1).pvalue)\n",
    "    \n",
    "x_axes = np.linspace(0, 1, iters)\n",
    "\n",
    "plt.figure(figsize = (10,8))\n",
    "plt.plot(sorted(p_wilx), x_axes, label = 'Знаковых рангов')\n",
    "plt.plot(sorted(p_ranks), x_axes, label = 'Ранговых сумм')\n",
    "plt.plot(x_axes, x_axes)\n",
    "plt.legend()\n",
    "\n",
    "plt.show()"
   ]
  },
  {
   "cell_type": "code",
   "execution_count": null,
   "metadata": {},
   "outputs": [],
   "source": []
  }
 ],
 "metadata": {
  "kernelspec": {
   "display_name": "Python 3",
   "language": "python",
   "name": "python3"
  },
  "language_info": {
   "codemirror_mode": {
    "name": "ipython",
    "version": 3
   },
   "file_extension": ".py",
   "mimetype": "text/x-python",
   "name": "python",
   "nbconvert_exporter": "python",
   "pygments_lexer": "ipython3",
   "version": "3.8.3"
  }
 },
 "nbformat": 4,
 "nbformat_minor": 4
}
