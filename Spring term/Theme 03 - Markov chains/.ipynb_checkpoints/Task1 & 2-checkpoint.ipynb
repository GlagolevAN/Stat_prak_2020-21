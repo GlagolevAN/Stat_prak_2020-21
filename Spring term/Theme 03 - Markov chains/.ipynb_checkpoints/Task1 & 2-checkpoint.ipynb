{
 "cells": [
  {
   "cell_type": "code",
   "execution_count": 2,
   "metadata": {},
   "outputs": [],
   "source": [
    "import matplotlib.pyplot as plt\n",
    "import numpy as np\n",
    "import random as rnd\n",
    "import math as m\n",
    "import pandas as pd\n",
    "import scipy.stats as stat\n",
    "import scipy.optimize as opt\n",
    "import seaborn as sb\n",
    "from scipy.integrate import quad\n",
    "from scipy.integrate import dblquad\n",
    "from scipy.special import comb\n",
    "from sklearn.linear_model import LinearRegression\n",
    "plt.style.use('ggplot')\n",
    "\n",
    "my_norm = lambda exp, disp: stat.norm(loc = exp, scale = m.sqrt(disp))"
   ]
  },
  {
   "cell_type": "code",
   "execution_count": null,
   "metadata": {},
   "outputs": [],
   "source": []
  },
  {
   "cell_type": "code",
   "execution_count": 16,
   "metadata": {},
   "outputs": [
    {
     "data": {
      "text/plain": [
       "array([0.2, 0.3, 0.3, 0.2])"
      ]
     },
     "execution_count": 16,
     "metadata": {},
     "output_type": "execute_result"
    }
   ],
   "source": [
    "A = np.array([[0.25, 0.75, 0, 0], [0.5, 0, 0.5, 0], [0, 0.5, 0, 0.5], [0, 0, 0.75, 0.25]])\n",
    "\n",
    "p = np.linalg.eig(A.T)[1][:, 2]\n",
    "p = -p / np.linalg.norm(p, ord = 1)\n",
    "p"
   ]
  },
  {
   "cell_type": "code",
   "execution_count": 12,
   "metadata": {},
   "outputs": [
    {
     "name": "stdout",
     "output_type": "stream",
     "text": [
      "5\n",
      "[[0.17675781 0.43066406 0.16992188 0.22265625]\n",
      " [0.28710938 0.14648438 0.453125   0.11328125]\n",
      " [0.11328125 0.453125   0.14648438 0.28710938]\n",
      " [0.22265625 0.16992188 0.43066406 0.17675781]]\n",
      "10\n",
      "[[0.22371578 0.25403881 0.34596062 0.17628479]\n",
      " [0.16935921 0.36967659 0.23032379 0.23064041]\n",
      " [0.23064041 0.23032379 0.36967659 0.16935921]\n",
      " [0.17628479 0.34596062 0.25403881 0.22371578]]\n",
      "20\n",
      "[[0.20394139 0.29141525 0.30858475 0.19605861]\n",
      " [0.19427683 0.31252614 0.28747386 0.20572317]\n",
      " [0.20572317 0.28747386 0.31252614 0.19427683]\n",
      " [0.19605861 0.30858475 0.29141525 0.20394139]]\n",
      "30\n",
      "[[0.20071303 0.29844139 0.30155861 0.19928697]\n",
      " [0.19896093 0.30227164 0.29772836 0.20103907]\n",
      " [0.20103907 0.29772836 0.30227164 0.19896093]\n",
      " [0.19928697 0.30155861 0.29844139 0.20071303]]\n",
      "50\n",
      "[[0.20002346 0.29994871 0.30005129 0.19997654]\n",
      " [0.19996581 0.30007475 0.29992525 0.20003419]\n",
      " [0.20003419 0.29992525 0.30007475 0.19996581]\n",
      " [0.19997654 0.30005129 0.29994871 0.20002346]]\n"
     ]
    }
   ],
   "source": [
    "for n in [5, 10, 20, 30, 50]:\n",
    "    print(n)\n",
    "    print(np.linalg.matrix_power(A, n))"
   ]
  },
  {
   "cell_type": "code",
   "execution_count": 28,
   "metadata": {},
   "outputs": [
    {
     "data": {
      "text/plain": [
       "array([0.27272727, 0.22727273, 0.18181818, 0.31818182])"
      ]
     },
     "execution_count": 28,
     "metadata": {},
     "output_type": "execute_result"
    }
   ],
   "source": [
    "A = np.array([[2/9, 1/3, 0, 4/9], [4/9, 1/9, 0, 4/9], [2/9, 2/9, 2/9, 1/3], [2/9, 2/9, 4/9, 1/9]])\n",
    "\n",
    "p = np.linalg.eig(A.T)[1][:,0]\n",
    "p = -p / np.linalg.norm(p, ord = 1)\n",
    "p"
   ]
  },
  {
   "cell_type": "code",
   "execution_count": 29,
   "metadata": {},
   "outputs": [
    {
     "name": "stdout",
     "output_type": "stream",
     "text": [
      "5\n",
      "[[0.27251943 0.22748903 0.18154414 0.31844739]\n",
      " [0.27306136 0.22694711 0.18154414 0.31844739]\n",
      " [0.27268878 0.22730275 0.18174736 0.31826111]\n",
      " [0.27268878 0.22730275 0.18228929 0.31771918]]\n",
      "10\n",
      "[[0.27272739 0.22727261 0.18181832 0.31818168]\n",
      " [0.27272709 0.22727291 0.18181832 0.31818168]\n",
      " [0.27272729 0.22727271 0.18181823 0.31818177]\n",
      " [0.27272729 0.22727271 0.18181793 0.31818207]]\n",
      "20\n",
      "[[0.27272727 0.22727273 0.18181818 0.31818182]\n",
      " [0.27272727 0.22727273 0.18181818 0.31818182]\n",
      " [0.27272727 0.22727273 0.18181818 0.31818182]\n",
      " [0.27272727 0.22727273 0.18181818 0.31818182]]\n",
      "30\n",
      "[[0.27272727 0.22727273 0.18181818 0.31818182]\n",
      " [0.27272727 0.22727273 0.18181818 0.31818182]\n",
      " [0.27272727 0.22727273 0.18181818 0.31818182]\n",
      " [0.27272727 0.22727273 0.18181818 0.31818182]]\n",
      "50\n",
      "[[0.27272727 0.22727273 0.18181818 0.31818182]\n",
      " [0.27272727 0.22727273 0.18181818 0.31818182]\n",
      " [0.27272727 0.22727273 0.18181818 0.31818182]\n",
      " [0.27272727 0.22727273 0.18181818 0.31818182]]\n"
     ]
    }
   ],
   "source": [
    "for n in [5, 10, 20, 30, 50]:\n",
    "    print(n)\n",
    "    print(np.linalg.matrix_power(A, n))"
   ]
  },
  {
   "cell_type": "code",
   "execution_count": 42,
   "metadata": {},
   "outputs": [
    {
     "data": {
      "text/plain": [
       "array([-0.21818182, -0.32727273, -0.18181818, -0.27272727])"
      ]
     },
     "execution_count": 42,
     "metadata": {},
     "output_type": "execute_result"
    }
   ],
   "source": [
    "A = np.array([[4/9, 0, 2/9, 1/3], [0, 4/9, 2/9, 1/3], [0, 2/3, 0, 1/3], [4/9, 2/9, 2/9, 1/9]])\n",
    "\n",
    "p = np.linalg.eig(A.T)[1][:,2]\n",
    "p = -p / np.linalg.norm(p, ord = 1)\n",
    "p"
   ]
  },
  {
   "cell_type": "code",
   "execution_count": 40,
   "metadata": {},
   "outputs": [
    {
     "name": "stdout",
     "output_type": "stream",
     "text": [
      "5\n",
      "[[0.2284882  0.31672001 0.18191671 0.27287507]\n",
      " [0.21114667 0.33406154 0.18191671 0.27287507]\n",
      " [0.21114667 0.33460346 0.18137479 0.27287507]\n",
      " [0.22306898 0.32268116 0.18191671 0.27233315]]\n",
      "10\n",
      "[[0.21836231 0.32709237 0.18181813 0.27272719]\n",
      " [0.21806158 0.3273931  0.18181813 0.27272719]\n",
      " [0.21806158 0.32739281 0.18181842 0.27272719]\n",
      " [0.21826187 0.32719252 0.18181813 0.27272749]]\n",
      "20\n",
      "[[0.21818187 0.32727267 0.18181818 0.27272727]\n",
      " [0.21818178 0.32727276 0.18181818 0.27272727]\n",
      " [0.21818178 0.32727276 0.18181818 0.27272727]\n",
      " [0.21818184 0.3272727  0.18181818 0.27272727]]\n",
      "30\n",
      "[[0.21818182 0.32727273 0.18181818 0.27272727]\n",
      " [0.21818182 0.32727273 0.18181818 0.27272727]\n",
      " [0.21818182 0.32727273 0.18181818 0.27272727]\n",
      " [0.21818182 0.32727273 0.18181818 0.27272727]]\n",
      "50\n",
      "[[0.21818182 0.32727273 0.18181818 0.27272727]\n",
      " [0.21818182 0.32727273 0.18181818 0.27272727]\n",
      " [0.21818182 0.32727273 0.18181818 0.27272727]\n",
      " [0.21818182 0.32727273 0.18181818 0.27272727]]\n"
     ]
    }
   ],
   "source": [
    "for n in [5, 10, 20, 30, 50]:\n",
    "    print(n)\n",
    "    print(np.linalg.matrix_power(A, n))"
   ]
  },
  {
   "cell_type": "markdown",
   "metadata": {},
   "source": [
    "# TASK 2"
   ]
  },
  {
   "cell_type": "code",
   "execution_count": null,
   "metadata": {},
   "outputs": [],
   "source": []
  },
  {
   "cell_type": "code",
   "execution_count": 51,
   "metadata": {},
   "outputs": [
    {
     "name": "stdout",
     "output_type": "stream",
     "text": [
      "0.5709094463407113\n"
     ]
    }
   ],
   "source": [
    "B = np.array([[2/3, 1/3], [0.25, 0.75]])\n",
    "\n",
    "B8 = np.linalg.matrix_power(B, 8)\n",
    "print(B8[0, 1])"
   ]
  },
  {
   "cell_type": "code",
   "execution_count": 56,
   "metadata": {},
   "outputs": [
    {
     "data": {
      "text/plain": [
       "(array([443.,   0.,   0.,   0.,   0.,   0.,   0.,   0.,   0., 557.]),\n",
       " array([1. , 1.1, 1.2, 1.3, 1.4, 1.5, 1.6, 1.7, 1.8, 1.9, 2. ]),\n",
       " <a list of 10 Patch objects>)"
      ]
     },
     "execution_count": 56,
     "metadata": {},
     "output_type": "execute_result"
    },
    {
     "data": {
      "image/png": "[encoded data removed]",
      "text/plain": [
       "<Figure size 432x288 with 1 Axes>"
      ]
     },
     "metadata": {},
     "output_type": "display_data"
    }
   ],
   "source": [
    "sample = []\n",
    "for n in range(1000):\n",
    "    state = 1\n",
    "    for i in range(8):\n",
    "        if (state == 1):\n",
    "            toss = stat.bernoulli(2/3).rvs()\n",
    "            #print(toss)\n",
    "            if (toss == 0):\n",
    "                state = 2\n",
    "            #else state = 1\n",
    "        else:\n",
    "            toss = stat.bernoulli(3/4).rvs()\n",
    "            if (toss == 0):\n",
    "                state = 1\n",
    "            #else state = 2\n",
    "    sample.append(state)\n",
    "    \n",
    "plt.hist(sample)"
   ]
  },
  {
   "cell_type": "code",
   "execution_count": null,
   "metadata": {},
   "outputs": [],
   "source": []
  }
 ],
 "metadata": {
  "kernelspec": {
   "display_name": "Python 3",
   "language": "python",
   "name": "python3"
  },
  "language_info": {
   "codemirror_mode": {
    "name": "ipython",
    "version": 3
   },
   "file_extension": ".py",
   "mimetype": "text/x-python",
   "name": "python",
   "nbconvert_exporter": "python",
   "pygments_lexer": "ipython3",
   "version": "3.8.3"
  }
 },
 "nbformat": 4,
 "nbformat_minor": 4
}
