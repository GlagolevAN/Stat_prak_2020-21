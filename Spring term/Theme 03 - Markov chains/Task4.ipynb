{
 "cells": [
  {
   "cell_type": "code",
   "execution_count": 2,
   "metadata": {},
   "outputs": [],
   "source": [
    "import matplotlib.pyplot as plt\n",
    "import numpy as np\n",
    "import random as rnd\n",
    "import math as m\n",
    "import pandas as pd\n",
    "import scipy.stats as stat\n",
    "import scipy.optimize as opt\n",
    "import seaborn as sb\n",
    "from scipy.integrate import quad\n",
    "from scipy.integrate import dblquad\n",
    "from scipy.special import comb\n",
    "from sklearn.linear_model import LinearRegression\n",
    "plt.style.use('ggplot')\n",
    "\n",
    "my_norm = lambda exp, disp: stat.norm(loc = exp, scale = m.sqrt(disp))"
   ]
  },
  {
   "cell_type": "code",
   "execution_count": 9,
   "metadata": {},
   "outputs": [
    {
     "data": {
      "text/plain": [
       "array([[0.33333333, 0.33333333, 0.33333333],\n",
       "       [0.2       , 0.4       , 0.4       ],\n",
       "       [0.5       , 0.16666667, 0.33333333]])"
      ]
     },
     "execution_count": 9,
     "metadata": {},
     "output_type": "execute_result"
    }
   ],
   "source": [
    "A"
   ]
  },
  {
   "cell_type": "code",
   "execution_count": 3,
   "metadata": {},
   "outputs": [],
   "source": [
    "A = np.array([[1/3, 1/3, 1/3], [0.2, 0.4, 0.4], [0.5, 1/6, 1/3]])"
   ]
  },
  {
   "cell_type": "code",
   "execution_count": 11,
   "metadata": {},
   "outputs": [
    {
     "name": "stdout",
     "output_type": "stream",
     "text": [
      "35.15\n",
      "29.29\n",
      "35.56\n",
      "\n",
      "2 -> 2: 1141\n",
      "2 -> 3: 1176 \n",
      "\n",
      "3.0100686216744403\n",
      "3.612706681567421\n",
      "2.9500187571130265\n"
     ]
    },
    {
     "data": {
      "text/plain": [
       "2.8121484814398197"
      ]
     },
     "execution_count": 11,
     "metadata": {},
     "output_type": "execute_result"
    }
   ],
   "source": [
    "sample = []; mus = [[], [], []]; pis = [[], [], []]; counter22 = 0; counter23 = 0\n",
    "for n in range(100):\n",
    "    sample = []\n",
    "    state = list(stat.multinomial(1, [6/17, 5/17, 6/17]).rvs()[0]).index(1) + 1\n",
    "    sample.append(state)\n",
    "    for i in range(99):\n",
    "        if (state == 1):\n",
    "            state = list(stat.multinomial(1, A[0, :]).rvs()[0]).index(1) + 1\n",
    "        elif (state == 2):\n",
    "            state = list(stat.multinomial(1, A[1, :]).rvs()[0]).index(1) + 1\n",
    "        elif (state == 3):\n",
    "            state = list(stat.multinomial(1, A[2, :]).rvs()[0]).index(1) + 1\n",
    "        sample.append(state)\n",
    "    #print(sample)\n",
    "    for i in range(len(sample) - 1):\n",
    "        if (sample[i] == 1 and sample[i + 1] == 3):\n",
    "            #print('2 -> 3')\n",
    "            counter23 += 1\n",
    "        if (sample[i] == 1 and sample[i + 1] == 2):\n",
    "            #print('2 -> 2')\n",
    "            counter22 += 1\n",
    "\n",
    "    \n",
    "            \n",
    "    mus[0].append(sample.count(1))\n",
    "    mus[1].append(sample.count(2))\n",
    "    mus[2].append(sample.count(3))\n",
    "    \n",
    "    pis[0].append((101 - sample[::-1].index(1) - sample.index(1)) / (mus[0][-1] - 2))\n",
    "    pis[1].append((101 - sample[::-1].index(2) - sample.index(2)) / (mus[1][-1] - 2))\n",
    "    pis[2].append((101 - sample[::-1].index(3) - sample.index(3)) / (mus[2][-1] - 2))\n",
    "\n",
    "print(np.array(mus[0]).mean())\n",
    "print(np.array(mus[1]).mean())\n",
    "print(np.array(mus[2]).mean())\n",
    "\n",
    "print('\\n2 -> 2:', counter22)\n",
    "print('2 -> 3:', counter23, '\\n')\n",
    "\n",
    "print(np.array(pis[0]).mean())\n",
    "print(np.array(pis[1]).mean())\n",
    "print(np.array(pis[2]).mean())\n",
    "\n",
    "100/np.array(mus[2]).mean()"
   ]
  },
  {
   "cell_type": "markdown",
   "metadata": {},
   "source": [
    "$\\pi P = \\pi$\n",
    "\n",
    "$\\pi_j$ - среднее время пребывания\n",
    "\n",
    "$1/\\pi_j$ - среднее время возвращения"
   ]
  },
  {
   "cell_type": "code",
   "execution_count": 80,
   "metadata": {},
   "outputs": [
    {
     "name": "stdout",
     "output_type": "stream",
     "text": [
      "0.35294117647058826 0.29411764705882354 0.35294117647058826\n",
      "2.8333333333333335 3.4 2.8333333333333335\n"
     ]
    }
   ],
   "source": [
    "print(6/17, 5/17, 6/17)\n",
    "print(17/6, 17/5, 17/6)"
   ]
  },
  {
   "cell_type": "code",
   "execution_count": 95,
   "metadata": {},
   "outputs": [
    {
     "name": "stdout",
     "output_type": "stream",
     "text": [
      "188 407 405\n"
     ]
    }
   ],
   "source": [
    "state__ = [list(stat.multinomial(1, A[1, :]).rvs()[0]).index(1) + 1 for i in range(1000)]\n",
    "print(state__.count(1), state__.count(2), state__.count(3))"
   ]
  },
  {
   "cell_type": "code",
   "execution_count": 93,
   "metadata": {},
   "outputs": [
    {
     "data": {
      "text/plain": [
       "array([0.2, 0.4, 0.4])"
      ]
     },
     "execution_count": 93,
     "metadata": {},
     "output_type": "execute_result"
    }
   ],
   "source": [
    "A[1, :]"
   ]
  }
 ],
 "metadata": {
  "kernelspec": {
   "display_name": "Python 3",
   "language": "python",
   "name": "python3"
  },
  "language_info": {
   "codemirror_mode": {
    "name": "ipython",
    "version": 3
   },
   "file_extension": ".py",
   "mimetype": "text/x-python",
   "name": "python",
   "nbconvert_exporter": "python",
   "pygments_lexer": "ipython3",
   "version": "3.8.3"
  }
 },
 "nbformat": 4,
 "nbformat_minor": 4
}
