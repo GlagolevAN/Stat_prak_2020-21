{
 "cells": [
  {
   "cell_type": "code",
   "execution_count": 2,
   "metadata": {},
   "outputs": [],
   "source": [
    "import matplotlib.pyplot as plt\n",
    "import numpy as np\n",
    "import random as rnd\n",
    "import math as m\n",
    "import pandas as pd\n",
    "import scipy.stats as stat\n",
    "import scipy.optimize as opt\n",
    "import seaborn as sb\n",
    "from scipy.integrate import quad\n",
    "from scipy.integrate import dblquad\n",
    "from scipy.special import comb\n",
    "from sklearn.linear_model import LinearRegression\n",
    "#plt.style.use('ggplot')\n",
    "\n",
    "my_norm = lambda exp, disp: stat.norm(loc = exp, scale = m.sqrt(disp))"
   ]
  },
  {
   "cell_type": "code",
   "execution_count": null,
   "metadata": {},
   "outputs": [],
   "source": []
  },
  {
   "cell_type": "markdown",
   "metadata": {},
   "source": [
    "$f_X(x) = C (x + 1/2) \\quad \n",
    "1 = C (1/2 + 1/2) \\Rightarrow C = 1$\n",
    "\n",
    "$F_X(x) = x/2 + x^2/2 = 0.5 (1/4 + x + x^2) - 1/8 \\quad\n",
    "F^{-1}_X(y) = \\sqrt{2y + 1/4} - 1/2$\n",
    "\n",
    "$f_{Y|X}(y|x) = \\dfrac{x + y}{x + 1/2} \\quad\n",
    "F_{Y|X}(y|x) = \\dfrac{x}{x + 1/2} + \\dfrac{y^2/2}{x + 1/2} \\quad\n",
    "F^{-1}_{Y|X} (y) = \\sqrt{(z * (x + 1/2) - x) * 2} = \\sqrt{(z-1)2x + z} \n",
    "$\n",
    "\n",
    "Искомое распределение: $(\\sqrt{2R_1 + 1/4} - 1/2, \\sqrt{(R_2 - 1)2 (\\sqrt{2R_1 + 1/4} - 1/2) + R_2})$"
   ]
  },
  {
   "cell_type": "code",
   "execution_count": null,
   "metadata": {},
   "outputs": [],
   "source": [
    "def gen(n):\n",
    "    g_sample = [[], []]\n",
    "    fro i in range(n):\n",
    "        g_sample[0].append(m.sqrt(2 * stat.uniform().rvs() + 0.25) - 0.5)\n",
    "        g_sample[1].append()"
   ]
  },
  {
   "cell_type": "code",
   "execution_count": null,
   "metadata": {},
   "outputs": [],
   "source": []
  },
  {
   "cell_type": "code",
   "execution_count": null,
   "metadata": {},
   "outputs": [],
   "source": []
  }
 ],
 "metadata": {
  "kernelspec": {
   "display_name": "Python 3",
   "language": "python",
   "name": "python3"
  },
  "language_info": {
   "codemirror_mode": {
    "name": "ipython",
    "version": 3
   },
   "file_extension": ".py",
   "mimetype": "text/x-python",
   "name": "python",
   "nbconvert_exporter": "python",
   "pygments_lexer": "ipython3",
   "version": "3.8.3"
  }
 },
 "nbformat": 4,
 "nbformat_minor": 4
}
