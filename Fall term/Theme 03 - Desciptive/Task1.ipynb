{
 "cells": [
  {
   "cell_type": "code",
   "execution_count": 3,
   "metadata": {},
   "outputs": [],
   "source": [
    "import matplotlib.pyplot as plt\n",
    "import numpy as np\n",
    "import random as rnd\n",
    "import math as m\n",
    "import pandas as pd\n",
    "import scipy.stats as stat\n",
    "import seaborn as sb\n",
    "from scipy.integrate import quad\n",
    "from scipy.integrate import dblquad\n",
    "from scipy.special import comb\n",
    "\n",
    "\n",
    "\n",
    "expon = lambda n: stat.gamma(n, loc = 1)\n",
    "my_norm = lambda exp, disp: stat.norm(loc = exp, scale = m.sqrt(disp))"
   ]
  },
  {
   "cell_type": "code",
   "execution_count": 7,
   "metadata": {},
   "outputs": [],
   "source": [
    "data = sb.load_dataset(\"tips\")\n",
    "df = pd.DataFrame(data = data)"
   ]
  },
  {
   "cell_type": "code",
   "execution_count": 40,
   "metadata": {},
   "outputs": [
    {
     "name": "stdout",
     "output_type": "stream",
     "text": [
      "Shape is (244, 7)\n",
      "Third column is sex\n",
      "     total_bill   tip     sex smoker  day    time  size\n",
      "1         10.34  1.66    Male     No  Sun  Dinner     3\n",
      "6          8.77  2.00    Male     No  Sun  Dinner     2\n",
      "9         14.78  3.23    Male     No  Sun  Dinner     2\n",
      "10        10.27  1.71    Male     No  Sun  Dinner     2\n",
      "14        14.83  3.02  Female     No  Sun  Dinner     2\n",
      "..          ...   ...     ...    ...  ...     ...   ...\n",
      "228       13.28  2.72    Male     No  Sat  Dinner     2\n",
      "232       11.61  3.39    Male     No  Sat  Dinner     2\n",
      "233       10.77  1.47    Male     No  Sat  Dinner     2\n",
      "235       10.07  1.25    Male     No  Sat  Dinner     2\n",
      "236       12.60  1.00    Male    Yes  Sat  Dinner     2\n",
      "\n",
      "[80 rows x 7 columns]\n",
      "     total_bill   tip     sex smoker  day    time  size\n",
      "19        20.65  3.35    Male     No  Sat  Dinner     3\n",
      "20        17.92  4.08    Male     No  Sat  Dinner     2\n",
      "21        20.29  2.75  Female     No  Sat  Dinner     2\n",
      "22        15.77  2.23  Female     No  Sat  Dinner     2\n",
      "23        39.42  7.58    Male     No  Sat  Dinner     4\n",
      "..          ...   ...     ...    ...  ...     ...   ...\n",
      "238       35.83  4.67  Female     No  Sat  Dinner     3\n",
      "239       29.03  5.92    Male     No  Sat  Dinner     3\n",
      "240       27.18  2.00  Female    Yes  Sat  Dinner     2\n",
      "241       22.67  2.00    Male    Yes  Sat  Dinner     2\n",
      "242       17.82  1.75    Male     No  Sat  Dinner     2\n",
      "\n",
      "[87 rows x 7 columns]\n"
     ]
    }
   ],
   "source": [
    "print(\"Shape is\", df.shape)\n",
    "print(\"Third column is\", str(df.columns[2]))\n",
    "print(df[df[\"total_bill\"] < 15])\n",
    "print(df[df[\"day\"] == \"Sat\"])"
   ]
  },
  {
   "cell_type": "code",
   "execution_count": 49,
   "metadata": {},
   "outputs": [
    {
     "name": "stdout",
     "output_type": "stream",
     "text": [
      "Mon Sum = 0.0\n",
      "Tue Sum = 0.0\n",
      "Wed Sum = 0.0\n",
      "Thur Sum = 171.83\n",
      "Fri Sum = 51.96\n",
      "Sat Sum = 260.4\n",
      "Sun Sum = 247.39\n"
     ]
    }
   ],
   "source": [
    "for day in [\"Mon\", \"Tue\", \"Wed\", \"Thur\", \"Fri\", \"Sat\", \"Sun\"]:\n",
    "    print(day, \"Sum =\", round(df[df[\"day\"] == day][\"tip\"].sum(), 3))"
   ]
  },
  {
   "cell_type": "code",
   "execution_count": 81,
   "metadata": {},
   "outputs": [
    {
     "data": {
      "text/html": [
       "<div>\n",
       "<style scoped>\n",
       "    .dataframe tbody tr th:only-of-type {\n",
       "        vertical-align: middle;\n",
       "    }\n",
       "\n",
       "    .dataframe tbody tr th {\n",
       "        vertical-align: top;\n",
       "    }\n",
       "\n",
       "    .dataframe thead th {\n",
       "        text-align: right;\n",
       "    }\n",
       "</style>\n",
       "<table border=\"1\" class=\"dataframe\">\n",
       "  <thead>\n",
       "    <tr style=\"text-align: right;\">\n",
       "      <th></th>\n",
       "      <th>Thur</th>\n",
       "      <th>Fri</th>\n",
       "      <th>Sat</th>\n",
       "      <th>Sun</th>\n",
       "    </tr>\n",
       "    <tr>\n",
       "      <th>Smoke/Sex</th>\n",
       "      <th></th>\n",
       "      <th></th>\n",
       "      <th></th>\n",
       "      <th></th>\n",
       "    </tr>\n",
       "  </thead>\n",
       "  <tbody>\n",
       "    <tr>\n",
       "      <th>SF</th>\n",
       "      <td>20.93</td>\n",
       "      <td>18.78</td>\n",
       "      <td>43.03</td>\n",
       "      <td>14.00</td>\n",
       "    </tr>\n",
       "    <tr>\n",
       "      <th>SM</th>\n",
       "      <td>30.58</td>\n",
       "      <td>21.93</td>\n",
       "      <td>77.74</td>\n",
       "      <td>52.82</td>\n",
       "    </tr>\n",
       "    <tr>\n",
       "      <th>NF</th>\n",
       "      <td>61.49</td>\n",
       "      <td>6.25</td>\n",
       "      <td>35.42</td>\n",
       "      <td>46.61</td>\n",
       "    </tr>\n",
       "    <tr>\n",
       "      <th>NM</th>\n",
       "      <td>58.83</td>\n",
       "      <td>5.00</td>\n",
       "      <td>104.21</td>\n",
       "      <td>133.96</td>\n",
       "    </tr>\n",
       "  </tbody>\n",
       "</table>\n",
       "</div>"
      ],
      "text/plain": [
       "            Thur    Fri     Sat     Sun\n",
       "Smoke/Sex                              \n",
       "SF         20.93  18.78   43.03   14.00\n",
       "SM         30.58  21.93   77.74   52.82\n",
       "NF         61.49   6.25   35.42   46.61\n",
       "NM         58.83   5.00  104.21  133.96"
      ]
     },
     "execution_count": 81,
     "metadata": {},
     "output_type": "execute_result"
    }
   ],
   "source": [
    "new_data = {\"Smoke/Sex\":[\"SF\", \"SM\", \"NF\", \"NM\"], \"Thur\": [], \"Fri\": [], \"Sat\": [], \"Sun\": []}\n",
    "for smoker in [\"Yes\", \"No\"]:\n",
    "    for sex in [\"Female\", \"Male\"]:\n",
    "        for day in [\"Thur\",\"Fri\", \"Sat\", \"Sun\"]:\n",
    "            new_data[day].append(df[(df[\"day\"] == day) & (df[\"sex\"] == sex) & (df[\"smoker\"] == smoker)] [\"tip\"].sum())\n",
    "            \n",
    "df1 = pd.DataFrame(new_data).set_index(\"Smoke/Sex\")#, rows = [\"Smoking female\", \"Smoking male\", \"Not smoking female\", \"Not smoking male\"])\n",
    "df1 #set_index"
   ]
  },
  {
   "cell_type": "code",
   "execution_count": 3,
   "metadata": {},
   "outputs": [],
   "source": [
    "def length(x, y):\n",
    "    return m.sqrt(x**2 + y**2)"
   ]
  },
  {
   "cell_type": "code",
   "execution_count": 83,
   "metadata": {},
   "outputs": [
    {
     "name": "stdout",
     "output_type": "stream",
     "text": [
      "4.932752003646391\n",
      "Theoretical value is  4.934802200544679\n",
      "4.934802200544679\n"
     ]
    }
   ],
   "source": [
    "def new_vyborka_circle(size):\n",
    "    counter = 0; sample_x = []; sample_y = []; sample_z = []; ans = 0;\n",
    "    while (counter < size):\n",
    "        r = (stat.uniform.rvs(0, 1)) ** (1/3) #ВНИМАНИЕ, КОРЕНЬ!\n",
    "        phi = stat.uniform.rvs(0, 2 * m.pi)\n",
    "        psi = stat.uniform.rvs(0, 2 * m.pi)\n",
    "        counter += 1\n",
    "        \n",
    "        x1 = r * m.cos(phi) * m.cos(psi)\n",
    "        y1 = r * m.cos(phi) * m.sin(psi)\n",
    "        z1 = r * m.sin(phi)\n",
    "        \n",
    "        sample_x.append(r * m.cos(phi) * m.cos(psi))\n",
    "        sample_y.append(r * m.cos(phi) * m.sin(psi))\n",
    "        sample_z.append(r * m.sin(phi))\n",
    "        \n",
    "        ans += (m.sqrt(1 - x1**2 - y1**2 - z1 **2))\n",
    "    return sample_x, sample_y, sample_z, ans\n",
    "\n",
    "\n",
    "samplesize = 1000000\n",
    "sample_x, sample_y, sample_z, ans = new_vyborka_circle(samplesize)\n",
    "\n",
    "print(ans * 4 / 3 * m.pi * 2 / samplesize)\n",
    "print('Theoretical value is ', m.pi ** (2) / m.gamma(3))\n",
    "print(m.pi**2 / 2)\n"
   ]
  },
  {
   "cell_type": "code",
   "execution_count": null,
   "metadata": {},
   "outputs": [],
   "source": []
  }
 ],
 "metadata": {
  "kernelspec": {
   "display_name": "Python 3",
   "language": "python",
   "name": "python3"
  },
  "language_info": {
   "codemirror_mode": {
    "name": "ipython",
    "version": 3
   },
   "file_extension": ".py",
   "mimetype": "text/x-python",
   "name": "python",
   "nbconvert_exporter": "python",
   "pygments_lexer": "ipython3",
   "version": "3.8.3"
  }
 },
 "nbformat": 4,
 "nbformat_minor": 4
}
