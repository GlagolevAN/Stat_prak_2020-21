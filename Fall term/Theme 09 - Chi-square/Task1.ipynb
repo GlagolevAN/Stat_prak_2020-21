{
 "cells": [
  {
   "cell_type": "code",
   "execution_count": 1,
   "metadata": {},
   "outputs": [],
   "source": [
    "import matplotlib.pyplot as plt\n",
    "import numpy as np\n",
    "import random as rnd\n",
    "import math as m\n",
    "import pandas as pd\n",
    "import scipy.stats as stat\n",
    "import scipy.optimize as opt\n",
    "import seaborn as sb\n",
    "from scipy.integrate import quad\n",
    "from scipy.integrate import dblquad\n",
    "from scipy.special import comb\n",
    "\n",
    "#plt.style.use('ggplot')\n",
    "\n",
    "my_norm = lambda exp, disp: stat.norm(loc = exp, scale = m.sqrt(disp))"
   ]
  },
  {
   "cell_type": "code",
   "execution_count": 2,
   "metadata": {},
   "outputs": [],
   "source": [
    "df = pd.read_csv('Priem.csv', sep = ';', encoding = 'windows-1251')"
   ]
  },
  {
   "cell_type": "markdown",
   "metadata": {},
   "source": [
    "Как известно,\n",
    "\n",
    "$$\n",
    "2 \\sum\\limits_{i = 1}^{12} \\nu_i \\ln\\left( \\frac{12\\nu_i}{n}\\right) \\stackrel{d}{\\to} \\chi^2_{11}\n",
    "$$\n",
    "\n",
    "$$\n",
    "11 = 12 - 1 - ddof \\quad \\mathrm{for \\ monthes}\n",
    "$$\n",
    "\n",
    "для дней аналогично с параметром 31"
   ]
  },
  {
   "cell_type": "code",
   "execution_count": 16,
   "metadata": {},
   "outputs": [
    {
     "data": {
      "text/plain": [
       "[121, 97, 107, 106, 132, 124, 116, 127, 132, 117, 103, 108]"
      ]
     },
     "execution_count": 16,
     "metadata": {},
     "output_type": "execute_result"
    }
   ],
   "source": [
    "dates = df['Дата.рождения']\n",
    "\n",
    "list_monthes = [int(elem[3] + elem[4]) for elem in dates]\n",
    "freq_monthes = [list_monthes.count(i) for i in range(1, 13)] \n",
    "freq_monthes"
   ]
  },
  {
   "cell_type": "code",
   "execution_count": 42,
   "metadata": {},
   "outputs": [],
   "source": [
    "month_p1 = round(stat.chisquare(freq_monthes, ddof = 0).pvalue, 4)"
   ]
  },
  {
   "cell_type": "code",
   "execution_count": 40,
   "metadata": {
    "scrolled": true
   },
   "outputs": [],
   "source": [
    "list_days = [int(elem[0] + elem[1]) for elem in dates]\n",
    "freq_days = [list_days.count(i) for i in range(1, 32)] \n",
    "\n",
    "days_p1 = round(stat.chisquare(freq_days, ddof = 0).pvalue, 4)"
   ]
  },
  {
   "cell_type": "code",
   "execution_count": 48,
   "metadata": {},
   "outputs": [
    {
     "name": "stdout",
     "output_type": "stream",
     "text": [
      "  Days' p-value =  0.0979\n",
      "Monthes' p-value = 0.298\n"
     ]
    }
   ],
   "source": [
    "print('  Days\\' p-value =  ' + str(days_p1))\n",
    "print('Monthes\\' p-value = ' + str(month_p1))"
   ]
  },
  {
   "cell_type": "markdown",
   "metadata": {},
   "source": [
    "Месяцы года встречаются равновероятно.\n",
    "Дни месяца - то же (если наш уровень значимости не 0.1).\n",
    "\n",
    "Гипотезы не отвергнуты "
   ]
  },
  {
   "cell_type": "markdown",
   "metadata": {},
   "source": [
    "###### Но что если сделать поправку на разное число дней в месяце???\n",
    "\n",
    "По-прежнему имеет место сходимость к распределению хи-квадрат со степенями свободы 11 или 31, ddof $= 0$"
   ]
  },
  {
   "cell_type": "code",
   "execution_count": 68,
   "metadata": {},
   "outputs": [],
   "source": [
    "expected_days = [12/365 for i in range(28)]\n",
    "expected_days.append(11/365)\n",
    "expected_days.append(11/365)\n",
    "expected_days.append(7/365)\n",
    "\n",
    "len_dates = len(dates)\n",
    "days_p2 = stat.chisquare(freq_days, [len_dates * elem for elem in expected_days ], ddof = 0).pvalue"
   ]
  },
  {
   "cell_type": "code",
   "execution_count": 69,
   "metadata": {},
   "outputs": [],
   "source": [
    "expected_monthes = [31, 28, 31, 30, 31, 30, 31, 31, 30, 31, 30, 31]\n",
    "expected_monthes = [elem / 365 for elem in expected_monthes]\n",
    "\n",
    "monthes_p2 = stat.chisquare(freq_monthes, [len_dates * elem for elem in expected_monthes ], ddof = 0).pvalue"
   ]
  },
  {
   "cell_type": "code",
   "execution_count": 72,
   "metadata": {},
   "outputs": [
    {
     "name": "stdout",
     "output_type": "stream",
     "text": [
      "  Days' p-value =  0.5821\n",
      "Monthes' p-value = 0.4861\n"
     ]
    }
   ],
   "source": [
    "print('  Days\\' p-value =  ' + str(round(days_p2, 4)))\n",
    "print('Monthes\\' p-value = ' + str(round(monthes_p2, 4)))"
   ]
  },
  {
   "cell_type": "markdown",
   "metadata": {},
   "source": [
    "Месяцы года встречаются равновероятно.\n",
    "Дни месяца - то же.\n",
    "\n",
    "Гипотезы не отвергнуты.\n",
    "\n",
    "Поправка заметно увеличила p-value, для дней - сильнее"
   ]
  },
  {
   "cell_type": "markdown",
   "metadata": {},
   "source": [
    "##### Но что если учесть, что 2000 (и прочие) года високосные?????\n",
    "уже считать не хочется..."
   ]
  },
  {
   "cell_type": "code",
   "execution_count": 83,
   "metadata": {},
   "outputs": [
    {
     "name": "stdout",
     "output_type": "stream",
     "text": [
      "Число абитуриентов, родившихся в високосные годы равно 288\n"
     ]
    }
   ],
   "source": [
    "list_years = [int(elem[-2] + elem[-1]) for elem in dates]\n",
    "freq_years = [list_years.count(i) for i in range(0, 100)] \n",
    "\n",
    "leap_counter = 0;\n",
    "for i in range(len(freq_years)):\n",
    "    if (i % 4 == 0):\n",
    "        leap_counter += freq_years[i];\n",
    "\n",
    "print(\"Число абитуриентов, родившихся в високосные годы равно\", leap_counter)"
   ]
  },
  {
   "cell_type": "code",
   "execution_count": null,
   "metadata": {},
   "outputs": [],
   "source": [
    "    "
   ]
  },
  {
   "cell_type": "code",
   "execution_count": null,
   "metadata": {},
   "outputs": [],
   "source": []
  },
  {
   "cell_type": "code",
   "execution_count": null,
   "metadata": {},
   "outputs": [],
   "source": []
  },
  {
   "cell_type": "code",
   "execution_count": null,
   "metadata": {},
   "outputs": [],
   "source": []
  },
  {
   "cell_type": "code",
   "execution_count": null,
   "metadata": {},
   "outputs": [],
   "source": []
  },
  {
   "cell_type": "code",
   "execution_count": null,
   "metadata": {},
   "outputs": [],
   "source": []
  },
  {
   "cell_type": "code",
   "execution_count": 9,
   "metadata": {},
   "outputs": [
    {
     "data": {
      "text/plain": [
       "Power_divergenceResult(statistic=30998001.000000004, pvalue=0.0)"
      ]
     },
     "execution_count": 9,
     "metadata": {},
     "output_type": "execute_result"
    }
   ],
   "source": [
    "#какой-то пример\n",
    "freq_days = [0 for i in range(30)]\n",
    "freq_days.append(1000)\n",
    "stat.chisquare(freq_days, [1/31 for i in range(31)], ddof = 0)"
   ]
  },
  {
   "cell_type": "code",
   "execution_count": 33,
   "metadata": {},
   "outputs": [
    {
     "data": {
      "text/plain": [
       "Power_divergenceResult(statistic=0.0, pvalue=1.0)"
      ]
     },
     "execution_count": 33,
     "metadata": {},
     "output_type": "execute_result"
    }
   ],
   "source": [
    "#какой-то пример\n",
    "freq_days = [1 for i in range(31)]\n",
    "stat.chisquare(freq_days, [1 for i in range(31)], ddof = 0)"
   ]
  },
  {
   "cell_type": "code",
   "execution_count": null,
   "metadata": {},
   "outputs": [],
   "source": []
  }
 ],
 "metadata": {
  "kernelspec": {
   "display_name": "Python 3",
   "language": "python",
   "name": "python3"
  },
  "language_info": {
   "codemirror_mode": {
    "name": "ipython",
    "version": 3
   },
   "file_extension": ".py",
   "mimetype": "text/x-python",
   "name": "python",
   "nbconvert_exporter": "python",
   "pygments_lexer": "ipython3",
   "version": "3.8.3"
  }
 },
 "nbformat": 4,
 "nbformat_minor": 4
}
