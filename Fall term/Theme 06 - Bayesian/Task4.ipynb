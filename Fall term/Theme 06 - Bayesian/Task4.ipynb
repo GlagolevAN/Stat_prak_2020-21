{
 "cells": [
  {
   "cell_type": "code",
   "execution_count": 2,
   "metadata": {},
   "outputs": [],
   "source": [
    "import matplotlib.pyplot as plt\n",
    "import numpy as np\n",
    "import random as rnd\n",
    "import math as m\n",
    "import pandas as pd\n",
    "import scipy.stats as stat\n",
    "import seaborn as sb\n",
    "from scipy.integrate import quad\n",
    "from scipy.integrate import dblquad\n",
    "from scipy.special import comb\n",
    "\n",
    "\n",
    "\n",
    "expon = lambda n: stat.gamma(n, loc = 1)\n",
    "my_norm = lambda exp, disp: stat.norm(loc = exp, scale = m.sqrt(disp))"
   ]
  },
  {
   "cell_type": "code",
   "execution_count": 27,
   "metadata": {},
   "outputs": [
    {
     "name": "stdout",
     "output_type": "stream",
     "text": [
      "0.0\n"
     ]
    }
   ],
   "source": [
    "theta = 0.1\n",
    "samplesize = 50\n",
    "\n",
    "def new_pdf(x):\n",
    "    return 0.5 * (my_norm(theta, m.exp(theta**(-2))).pdf(x) + stat.norm().pdf(x))\n",
    "\n",
    "def new_cdf(x):\n",
    "    return 0.5 * (my_norm(theta, m.exp(theta**(-2))).cdf(x) + stat.norm().cdf(x))\n",
    "\n",
    "def new_ppf(x):\n",
    "    return 0.5 * (my_norm(theta, m.exp(theta**(-2))).ppf(x) + stat.norm().ppf(x))\n",
    "\n",
    "sample_r = stat.uniform.rvs(size = samplesize)\n",
    "sample = new_ppf(sample_r)\n",
    "print(stat.norm.ppf(0.5))"
   ]
  },
  {
   "cell_type": "code",
   "execution_count": null,
   "metadata": {},
   "outputs": [],
   "source": []
  },
  {
   "cell_type": "code",
   "execution_count": null,
   "metadata": {},
   "outputs": [],
   "source": []
  }
 ],
 "metadata": {
  "kernelspec": {
   "display_name": "Python 3",
   "language": "python",
   "name": "python3"
  },
  "language_info": {
   "codemirror_mode": {
    "name": "ipython",
    "version": 3
   },
   "file_extension": ".py",
   "mimetype": "text/x-python",
   "name": "python",
   "nbconvert_exporter": "python",
   "pygments_lexer": "ipython3",
   "version": "3.8.3"
  }
 },
 "nbformat": 4,
 "nbformat_minor": 4
}
