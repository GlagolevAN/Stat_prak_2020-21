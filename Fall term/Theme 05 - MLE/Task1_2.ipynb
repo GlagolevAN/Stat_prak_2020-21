{
 "cells": [
  {
   "cell_type": "code",
   "execution_count": 1,
   "metadata": {},
   "outputs": [],
   "source": [
    "import matplotlib.pyplot as plt\n",
    "import numpy as np\n",
    "import random as rnd\n",
    "import math as m\n",
    "import pandas as pd\n",
    "import scipy.stats as stat\n",
    "import scipy.optimize as opt\n",
    "import seaborn as sb\n",
    "from scipy.integrate import quad\n",
    "from scipy.integrate import dblquad\n",
    "from scipy.special import comb\n",
    "\n",
    "#plt.style.use('ggplot')\n",
    "\n",
    "my_norm = lambda exp, disp: stat.norm(loc = exp, scale = m.sqrt(disp))"
   ]
  },
  {
   "cell_type": "code",
   "execution_count": 2,
   "metadata": {},
   "outputs": [
    {
     "data": {
      "text/plain": [
       "[<matplotlib.lines.Line2D at 0x19db6012040>]"
      ]
     },
     "execution_count": 2,
     "metadata": {},
     "output_type": "execute_result"
    },
    {
     "data": {
      "image/png": "[encoded data removed]",
      "text/plain": [
       "<Figure size 432x288 with 1 Axes>"
      ]
     },
     "metadata": {
      "needs_background": "light"
     },
     "output_type": "display_data"
    }
   ],
   "source": [
    "expon = lambda theta: stat.expon(loc = theta)\n",
    "x = np.linspace(0, 10, 1000)\n",
    "plt.plot(x, stat.cauchy(loc = 3).pdf(x))"
   ]
  },
  {
   "cell_type": "code",
   "execution_count": 3,
   "metadata": {},
   "outputs": [],
   "source": [
    "theta = 15; samplesize = 500;"
   ]
  },
  {
   "cell_type": "code",
   "execution_count": 4,
   "metadata": {},
   "outputs": [],
   "source": [
    "def likelihood(distr, sample):\n",
    "    L = 0\n",
    "    for i in range(len(sample)):\n",
    "        L += np.log(distr(sample[i]))\n",
    "    return L;\n",
    "\n",
    "def likelihood_c(theta):\n",
    "    return -likelihood(stat.cauchy(loc = theta).pdf, sample = mini_sample)\n"
   ]
  },
  {
   "cell_type": "code",
   "execution_count": 17,
   "metadata": {},
   "outputs": [
    {
     "name": "stdout",
     "output_type": "stream",
     "text": [
      "28.636254697646592 36.73918846031948\n",
      "Optimization terminated successfully.\n",
      "         Current function value: 14.900999\n",
      "         Iterations: 4\n",
      "         Function evaluations: 30\n",
      "         Gradient evaluations: 15\n",
      "[10.12085869]\n"
     ]
    }
   ],
   "source": [
    "mini_sample = stat.cauchy(loc = theta).rvs(5)\n",
    "print(likelihood_c(2), likelihood_c(30))\n",
    "res = opt.minimize(likelihood_c, 42, method = \"BFGS\")\n",
    "print(res.x)"
   ]
  },
  {
   "cell_type": "code",
   "execution_count": 30,
   "metadata": {},
   "outputs": [
    {
     "name": "stdout",
     "output_type": "stream",
     "text": [
      "n = 5\n",
      "MLE: \n",
      "10.00357034192482 1.598644986795077\n",
      "MED: \n",
      "10.012673958524395 0.9129620624794053\n",
      "n = 10\n",
      "MLE: \n",
      "10.013337409278197 0.3307068984591449\n",
      "MED: \n",
      "10.068375201203008 0.3876646454285874\n",
      "n = 20\n",
      "MLE: \n",
      "10.029709539854618 0.12061881770009525\n",
      "MED: \n",
      "10.030310780836391 0.1478567019754451\n",
      "n = 50\n",
      "MLE: \n",
      "10.00933799737576 0.04071604425313355\n",
      "MED: \n",
      "10.01736800477241 0.05182570427804542\n",
      "n = 100\n",
      "MLE: \n",
      "10.002491723905164 0.018201970138321498\n",
      "MED: \n",
      "10.001402715423003 0.023182827869717572\n"
     ]
    }
   ],
   "source": [
    "samplesize = 500\n",
    "\n",
    "for n in [5, 10, 20, 50, 100]:\n",
    "    MLEsample = []; MEDsample = []\n",
    "    for i in range(samplesize):\n",
    "        mini_sample = stat.cauchy(loc = theta).rvs(n)\n",
    "\n",
    "        MLEsample.append(opt.minimize(likelihood_c, 5, method = \"BFGS\").x)\n",
    "        MEDsample.append(np.median(mini_sample))\n",
    "        #print(res)\n",
    "       \n",
    "    print('n =', n)\n",
    "    print(\"MLE: \")\n",
    "    print(np.array(MLEsample).mean(), np.array(MLEsample).var())\n",
    "\n",
    "    print(\"MED: \")\n",
    "    print(np.array(MEDsample).mean(), np.array(MEDsample).var())"
   ]
  },
  {
   "cell_type": "code",
   "execution_count": 9,
   "metadata": {},
   "outputs": [],
   "source": [
    "def sampling_method(distr, sample):\n",
    "    D = distr(sample[0])\n",
    "    for i in range(1, len(sample) - 1):\n",
    "        D *= (distr(sample[i]) - distr(sample[i - 1]))\n",
    "    D *= (1 - distr(sample[len(sample) - 1]))\n",
    "    return m.exp(D) * 10 ** len(sample);\n",
    "\n",
    "def likelihood_n(theta):\n",
    "    return -likelihood(stat.norm(loc = theta).pdf, sample = mini_sample)\n",
    "\n",
    "def sampling_method_n(theta):\n",
    "    return -sampling_method(stat.norm(loc = theta).cdf, sample = mini_sample)"
   ]
  },
  {
   "cell_type": "code",
   "execution_count": 6,
   "metadata": {},
   "outputs": [
    {
     "name": "stdout",
     "output_type": "stream",
     "text": [
      "Likelihood 36.48344501393161 4586.146817365735\n",
      "Sampling method estimate -1.0\n",
      "-0.34771039092326783\n"
     ]
    }
   ],
   "source": [
    "theta = 0\n",
    "mini_sample = sorted(stat.norm(loc = theta).rvs(10))\n",
    "#print(mini_sample)\n",
    "#print(stat.norm(loc = theta).cdf(mini_sample))\n",
    "print(\"Likelihood\", likelihood_n(2), likelihood_n(30))\n",
    "print(\"Sampling method estimate\", sampling_method_n(5))\n",
    "res = opt.minimize_scalar(sampling_method_n)\n",
    "print(res.x)"
   ]
  },
  {
   "cell_type": "code",
   "execution_count": 13,
   "metadata": {},
   "outputs": [
    {
     "name": "stdout",
     "output_type": "stream",
     "text": [
      "n = 5\n",
      "MLE estimation: 10.018657846126787\n",
      "MSE estimation: 9.843866646225282\n",
      "MLE is better 55 times\n",
      "MSE is better 45 times\n",
      "MLE is better\n",
      "n = 10\n",
      "MLE estimation: 9.957413983867651\n",
      "MSE estimation: 8.957413991361314\n",
      "MLE is better 95 times\n",
      "MSE is better 5 times\n",
      "MLE is better\n",
      "n = 20\n",
      "MLE estimation: 10.026569013720167\n",
      "MSE estimation: 9.026569021007278\n",
      "MLE is better 99 times\n",
      "MSE is better 1 times\n",
      "MLE is better\n",
      "n = 50\n",
      "MLE estimation: 9.998963763101555\n",
      "MSE estimation: 8.998963767682968\n",
      "MLE is better 100 times\n",
      "MSE is better 0 times\n",
      "MLE is better\n",
      "n = 100\n",
      "MLE estimation: 10.007887880736991\n",
      "MSE estimation: 9.007887886224806\n",
      "MLE is better 100 times\n",
      "MSE is better 0 times\n",
      "MLE is better\n"
     ]
    }
   ],
   "source": [
    "samplesize = 100\n",
    "theta = 10\n",
    "\n",
    "#x_axis = np.linspace(0, 30, 10000)\n",
    "\n",
    "for n in [5, 10, 20, 50, 100]:\n",
    "    MLEsample = []; MSEsample = []\n",
    "    for i in range(samplesize):\n",
    "        mini_sample = sorted(stat.norm(loc = theta).rvs(n))\n",
    "        #print(mini_sample)\n",
    "        mean = np.array(mini_sample).mean()\n",
    "        MLEsample.append(opt.minimize(likelihood_n, mean - 1, method = \"BFGS\").x[0])\n",
    "        #print(sampling_method_n(theta))\n",
    "        MSEsample.append(opt.minimize(sampling_method_n, mean - 1, method = \"BFGS\").x[0]);\n",
    "        \n",
    "        #plt.plot(x_axis, [sampling_method_n(elem) for elem in x_axis]);\n",
    "        #plt.show()\n",
    "       # print(MSEsample)\n",
    "        \n",
    "    print('n =', n)\n",
    "    print(\"MLE estimation:\", np.array(MLEsample).mean())\n",
    "    print(\"MSE estimation:\", np.array(MSEsample).mean())\n",
    "    \n",
    "    MLE_better = 0; MSE_better = 0;\n",
    "    \n",
    "    for i in range(samplesize):\n",
    "        if (abs(theta - MLEsample[i]) < abs(theta - MSEsample[i])):\n",
    "            MLE_better += 1\n",
    "        else: \n",
    "            MSE_better += 1\n",
    "    \n",
    "    \n",
    "    print(\"MLE is better\", MLE_better, \"times\")\n",
    "    print(\"MSE is better\", MSE_better, \"times\")\n",
    "    if (MLE_better > MSE_better):\n",
    "        print(\"MLE is better\")\n",
    "    else:\n",
    "        print(\"MSE is better\")"
   ]
  },
  {
   "cell_type": "code",
   "execution_count": 29,
   "metadata": {},
   "outputs": [
    {
     "name": "stdout",
     "output_type": "stream",
     "text": [
      "n = 5\n",
      "MLE estimation: 15.005724953428542\n",
      "MSE estimation: 14.832700152587893\n",
      "MLE is better 559 times\n",
      "MSE is better 441 times\n",
      "MLE is better\n",
      "n = 10\n",
      "MLE estimation: 14.996284606831248\n",
      "MSE estimation: 14.868303283691409\n",
      "MLE is better 588 times\n",
      "MSE is better 412 times\n",
      "MLE is better\n",
      "n = 20\n",
      "MLE estimation: 15.000539977393833\n",
      "MSE estimation: 14.920392309570314\n",
      "MLE is better 575 times\n",
      "MSE is better 425 times\n",
      "MLE is better\n",
      "n = 50\n",
      "MLE estimation: 14.992424775228981\n",
      "MSE estimation: 14.952053387451175\n",
      "MLE is better 572 times\n",
      "MSE is better 428 times\n",
      "MLE is better\n",
      "n = 100\n",
      "MLE estimation: 14.999855481823303\n",
      "MSE estimation: 14.976971429443362\n",
      "MLE is better 553 times\n",
      "MSE is better 447 times\n",
      "MLE is better\n"
     ]
    }
   ],
   "source": [
    "def likelihood(distr, sample):\n",
    "    L = 0\n",
    "    for i in range(len(sample)):\n",
    "        L += np.log(distr(sample[i]))\n",
    "    return L;\n",
    "\n",
    "def likelihood_c(theta):\n",
    "    return -likelihood(stat.cauchy(loc = theta).pdf, sample = mini_sample)\n",
    "\n",
    "''''''\n",
    "\n",
    "\n",
    "\n",
    "samplesize = 1000\n",
    "\n",
    "for n in [5, 10, 20, 50, 100]:\n",
    "    MLEsample = []; MSEsample = []\n",
    "    for i in range(samplesize):\n",
    "        mini_sample = sorted(stat.norm(loc = theta).rvs(n))\n",
    "        #print(mini_sample)\n",
    "        MLEsample.append(opt.minimize(likelihood_n, 13, method = \"BFGS\").x[0])\n",
    "        MSEsample.append(opt.fmin(lambda theta: sampling_method_n(theta), 13, disp = 0)[0]);\n",
    "       # print(MSEsample)\n",
    "        \n",
    "    print('n =', n)\n",
    "    print(\"MLE estimation:\", np.array(MLEsample).mean())\n",
    "    print(\"MSE estimation:\", np.array(MSEsample).mean())\n",
    "    \n",
    "    MLE_better = 0; MSE_better = 0;\n",
    "    \n",
    "    for i in range(samplesize):\n",
    "        if (abs(theta - MLEsample[i]) < abs(theta - MSEsample[i])):\n",
    "            MLE_better += 1\n",
    "        else: \n",
    "            MSE_better += 1\n",
    "    \n",
    "    \n",
    "    print(\"MLE is better\", MLE_better, \"times\")\n",
    "    print(\"MSE is better\", MSE_better, \"times\")\n",
    "    if (MLE_better > MSE_better):\n",
    "        print(\"MLE is better\")\n",
    "    else:\n",
    "        print(\"MSE is better\")\n",
    "        \n",
    "    #sb.distplot()\n",
    "    \n",
    "    '''\n",
    "    print('n =', n)\n",
    "    print(\"MLE: \")\n",
    "    print(np.array(MLEsample).mean(), np.array(MLEsample).var())\n",
    "\n",
    "    print(\"MED: \")\n",
    "    print(np.array(MEDsample).mean(), np.array(MEDsample).var())\n",
    "    '''\n"
   ]
  },
  {
   "cell_type": "code",
   "execution_count": null,
   "metadata": {},
   "outputs": [],
   "source": [
    "for n in [2, 5, 10, 20, 50, 100, 500]:\n",
    "    data1 = []\n",
    "    data2 = []\n",
    "    for i in range(samplesize):\n",
    "        sample = expon(theta).rvs(n);\n",
    "        data1.append(sample.min() - 1 / n)\n",
    "        data2.append(sample.mean() - 1)\n",
    "    sb.distplot(data1, hist = False, label = '$X_{(1)} - 1 / n$');\n",
    "    sb.distplot(data2, hist = False, label = '$\\\\overline{X} - 1$');\n",
    "    plt.axvline(theta)\n",
    "    plt.title(\"$\\\\overline{X} - 1$ for n = \" + str(n));\n",
    "    plt.show()"
   ]
  },
  {
   "cell_type": "code",
   "execution_count": null,
   "metadata": {
    "scrolled": false
   },
   "outputs": [],
   "source": [
    "for n in [2, 5, 10, 20, 50, 100, 500]:\n",
    "    data1 = []\n",
    "    data2 = []\n",
    "    theta = 10\n",
    "    for i in range(samplesize):\n",
    "        sample = expon(theta).rvs(n);\n",
    "        sample_mod = np.array([i * (i - 2) for i in sample])\n",
    "        #print(sample_mod.mean())\n",
    "        data1.append(m.sqrt(n) * (sample.mean() - 1 - theta))\n",
    "        \n",
    "        #try:\n",
    "        data2.append(m.sqrt(n) * (m.sqrt(sample_mod.mean()) - theta))\n",
    "        #    break\n",
    "        #except ValueError:\n",
    "        #    print(\"Mean is less than two\")\n",
    "        \n",
    "    sb.distplot(data1, label = '$\\\\sqrt{n} \\\\cdot (\\\\overline{X} - 1 - \\\\theta)$');\n",
    "    sb.distplot(data2, label = '$\\\\sqrt{n} \\\\cdot (\\\\sqrt{\\\\overline{X^2 - 2X}} - \\\\theta)$');\n",
    "    #plt.axvline(theta)\n",
    "    plt.title(\"n = \" + str(n));\n",
    "    plt.legend()\n",
    "    plt.show()"
   ]
  },
  {
   "cell_type": "code",
   "execution_count": null,
   "metadata": {},
   "outputs": [],
   "source": []
  }
 ],
 "metadata": {
  "kernelspec": {
   "display_name": "Python 3",
   "language": "python",
   "name": "python3"
  },
  "language_info": {
   "codemirror_mode": {
    "name": "ipython",
    "version": 3
   },
   "file_extension": ".py",
   "mimetype": "text/x-python",
   "name": "python",
   "nbconvert_exporter": "python",
   "pygments_lexer": "ipython3",
   "version": "3.8.3"
  }
 },
 "nbformat": 4,
 "nbformat_minor": 4
}
