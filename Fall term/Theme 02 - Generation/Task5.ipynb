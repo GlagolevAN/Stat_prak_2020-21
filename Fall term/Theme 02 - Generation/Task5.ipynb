{
 "cells": [
  {
   "cell_type": "code",
   "execution_count": 11,
   "metadata": {},
   "outputs": [],
   "source": [
    "import matplotlib.pyplot as plt\n",
    "import numpy as np\n",
    "import random as rnd\n",
    "import math as m\n",
    "import pandas as pd\n",
    "import scipy.stats as stat\n",
    "import seaborn as sb\n",
    "from scipy.integrate import quad\n",
    "from scipy.integrate import dblquad\n",
    "from scipy.special import comb\n",
    "import time\n",
    "\n",
    "\n",
    "expon = lambda n: stat.gamma(n, loc = 1)\n",
    "my_norm = lambda exp, disp: stat.norm(loc = exp, scale = m.sqrt(disp))"
   ]
  },
  {
   "cell_type": "code",
   "execution_count": 3,
   "metadata": {},
   "outputs": [],
   "source": [
    "def length(x, y):\n",
    "    return m.sqrt(x**2 + y**2)"
   ]
  },
  {
   "cell_type": "code",
   "execution_count": 4,
   "metadata": {},
   "outputs": [],
   "source": [
    "rv = stat.multivariate_normal([0, 1], [[1, 2], [2, 5]])"
   ]
  },
  {
   "cell_type": "code",
   "execution_count": 12,
   "metadata": {},
   "outputs": [
    {
     "name": "stdout",
     "output_type": "stream",
     "text": [
      "39.18181920051575\n",
      "0.1035544\n"
     ]
    }
   ],
   "source": [
    "samplesize = 10000000\n",
    "sample = rv.rvs(size = samplesize)\n",
    "\n",
    "\n",
    "counter = 0;\n",
    "start_time = time.time()\n",
    "for elem in sample:\n",
    "    if (-1 < elem[0] <= 0 and 0 < elem[1] < 1 + elem[0]) or (0 < elem[0] < 1 and 0 <= elem[1] < 1 - elem[0]):\n",
    "        counter += 1\n",
    "\n",
    "print(time.time() - start_time)\n",
    "print(counter / samplesize)"
   ]
  },
  {
   "cell_type": "markdown",
   "metadata": {},
   "source": [
    "^^^ сначала время работы, а потом ответ на задачу ^^^"
   ]
  },
  {
   "cell_type": "code",
   "execution_count": 10,
   "metadata": {},
   "outputs": [
    {
     "name": "stdout",
     "output_type": "stream",
     "text": [
      "0.10351182546469828\n"
     ]
    }
   ],
   "source": [
    "\n",
    "integrand = lambda y, x: rv.pdf([x, y])\n",
    "ans = dblquad(integrand, -1, 0, lambda x: 0, lambda x: 1 + x)[0] + dblquad(integrand, 0, 1, lambda x: 0, lambda x: 1 - x)[0]\n",
    "print(ans)"
   ]
  },
  {
   "cell_type": "code",
   "execution_count": null,
   "metadata": {},
   "outputs": [],
   "source": []
  }
 ],
 "metadata": {
  "kernelspec": {
   "display_name": "Python 3",
   "language": "python",
   "name": "python3"
  },
  "language_info": {
   "codemirror_mode": {
    "name": "ipython",
    "version": 3
   },
   "file_extension": ".py",
   "mimetype": "text/x-python",
   "name": "python",
   "nbconvert_exporter": "python",
   "pygments_lexer": "ipython3",
   "version": "3.8.3"
  }
 },
 "nbformat": 4,
 "nbformat_minor": 4
}
