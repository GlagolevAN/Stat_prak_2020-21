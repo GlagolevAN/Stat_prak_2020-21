{
 "cells": [
  {
   "cell_type": "code",
   "execution_count": 1,
   "metadata": {},
   "outputs": [],
   "source": [
    "import matplotlib.pyplot as plt\n",
    "import numpy as np\n",
    "import random as rnd\n",
    "import math as m\n",
    "import pandas as pd\n",
    "import scipy.stats as stat\n",
    "import seaborn as sb\n",
    "from scipy.integrate import quad\n",
    "from scipy.integrate import dblquad\n",
    "from scipy.special import comb\n",
    "\n",
    "\n",
    "\n",
    "expon = lambda n: stat.gamma(n, loc = 1)\n",
    "my_norm = lambda exp, disp: stat.norm(loc = exp, scale = m.sqrt(disp))"
   ]
  },
  {
   "cell_type": "code",
   "execution_count": 29,
   "metadata": {},
   "outputs": [
    {
     "name": "stdout",
     "output_type": "stream",
     "text": [
      "n = 100 x = 30 P_real =  0.0867839\n",
      "n = 100 x = 30 P_asymp = 0.0870563\n",
      "n = 100 x = 25 P_real =  0.0495599\n",
      "n = 100 x = 25 P_asymp = 0.0480056\n",
      "n = 100 x = 16 P_real =  0.000563866\n",
      "n = 100 x = 16 P_asymp = 0.00081864\n",
      "n = 100 x = 15 P_real =  0.000247659\n",
      "n = 100 x = 15 P_asymp = 0.000410415\n",
      "\n",
      "n = 1000 x = 300 P_real =  0.027521\n",
      "n = 1000 x = 300 P_asymp = 0.0275296\n",
      "n = 1000 x = 290 P_real =  0.0218709\n",
      "n = 1000 x = 290 P_asymp = 0.0216969\n",
      "n = 1000 x = 257 P_real =  0.0003096\n",
      "n = 1000 x = 257 P_asymp = 0.000337187\n",
      "n = 1000 x = 150 P_real =  1.07067e-28\n",
      "n = 1000 x = 150 P_asymp = 1.49288e-25\n",
      "\n",
      "n = 10000 x = 3000 P_real =  0.00870536\n",
      "n = 10000 x = 3000 P_asymp = 0.00870563\n",
      "n = 10000 x = 2978 P_real =  0.00777295\n",
      "n = 10000 x = 2978 P_asymp = 0.00775806\n",
      "n = 10000 x = 2863 P_real =  9.71727e-05\n",
      "n = 10000 x = 2863 P_asymp = 9.97749e-05\n",
      "n = 10000 x = 1500 P_real =  7.3383e-268\n",
      "n = 10000 x = 1500 P_asymp = 1.91444e-235\n",
      "\n"
     ]
    }
   ],
   "source": [
    "def real(x):\n",
    "    return (stat.binom(n, 0.3).pmf(x))\n",
    "    #return comb(n, x) * 0.3**x * 0.7**(n - x)\n",
    "def asymp(x):\n",
    "    return m.exp(-(x - 0.3 * n)**2 / (2 * 0.3 * 0.7 * n)) / (m.sqrt(2 * m.pi * 0.3 * 0.7 * n))\n",
    "\n",
    "for n in [100, 1000, 10000]:\n",
    "    for x in [0.3 * n, round(0.3 * n - n**(1/3)), round(0.3 * n - 3 * m.sqrt(0.3 * 0.7 * n)), 0.15 * n]:\n",
    "        print('n =', n, 'x =', round(x), 'P_real = ', '%.6g' % real(x))\n",
    "        print('n =', n, 'x =', round(x), 'P_asymp =', '%.6g' % asymp(x))\n",
    "        \n",
    "    print()\n",
    "    \n"
   ]
  },
  {
   "cell_type": "code",
   "execution_count": 27,
   "metadata": {},
   "outputs": [
    {
     "name": "stdout",
     "output_type": "stream",
     "text": [
      "0.0\n"
     ]
    }
   ],
   "source": [
    "theta = 0.1\n",
    "samplesize = 50\n",
    "\n",
    "def new_pdf(x):\n",
    "    return 0.5 * (my_norm(theta, m.exp(theta**(-2))).pdf(x) + stat.norm().pdf(x))\n",
    "\n",
    "def new_cdf(x):\n",
    "    return 0.5 * (my_norm(theta, m.exp(theta**(-2))).cdf(x) + stat.norm().cdf(x))\n",
    "\n",
    "def new_ppf(x):\n",
    "    return 0.5 * (my_norm(theta, m.exp(theta**(-2))).ppf(x) + stat.norm().ppf(x))\n",
    "\n",
    "sample_r = stat.uniform.rvs(size = samplesize)\n",
    "sample = new_ppf(sample_r)\n",
    "print(stat.norm.ppf(0.5))"
   ]
  },
  {
   "cell_type": "code",
   "execution_count": null,
   "metadata": {},
   "outputs": [],
   "source": []
  },
  {
   "cell_type": "code",
   "execution_count": null,
   "metadata": {},
   "outputs": [],
   "source": []
  }
 ],
 "metadata": {
  "kernelspec": {
   "display_name": "Python 3",
   "language": "python",
   "name": "python3"
  },
  "language_info": {
   "codemirror_mode": {
    "name": "ipython",
    "version": 3
   },
   "file_extension": ".py",
   "mimetype": "text/x-python",
   "name": "python",
   "nbconvert_exporter": "python",
   "pygments_lexer": "ipython3",
   "version": "3.8.3"
  }
 },
 "nbformat": 4,
 "nbformat_minor": 4
}
